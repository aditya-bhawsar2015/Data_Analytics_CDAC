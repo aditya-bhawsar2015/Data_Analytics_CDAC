{
 "cells": [
  {
   "cell_type": "code",
   "execution_count": 12,
   "id": "73fa89dd",
   "metadata": {},
   "outputs": [],
   "source": [
    "import pandas as pd\n",
    "import numpy as np\n",
    "import matplotlib.pyplot as plt\n",
    "import seaborn as sns"
   ]
  },
  {
   "cell_type": "code",
   "execution_count": 13,
   "id": "4bdd6dfe",
   "metadata": {},
   "outputs": [
    {
     "name": "stdout",
     "output_type": "stream",
     "text": [
      "['anagrams', 'anscombe', 'attention', 'brain_networks', 'car_crashes', 'diamonds', 'dots', 'dowjones', 'exercise', 'flights', 'fmri', 'geyser', 'glue', 'healthexp', 'iris', 'mpg', 'penguins', 'planets', 'seaice', 'taxis', 'tips', 'titanic', 'anagrams', 'anagrams', 'anscombe', 'anscombe', 'attention', 'attention', 'brain_networks', 'brain_networks', 'car_crashes', 'car_crashes', 'diamonds', 'diamonds', 'dots', 'dots', 'dowjones', 'dowjones', 'exercise', 'exercise', 'flights', 'flights', 'fmri', 'fmri', 'geyser', 'geyser', 'glue', 'glue', 'healthexp', 'healthexp', 'iris', 'iris', 'mpg', 'mpg', 'penguins', 'penguins', 'planets', 'planets', 'seaice', 'seaice', 'taxis', 'taxis', 'tips', 'tips', 'titanic', 'titanic', 'anagrams', 'anscombe', 'attention', 'brain_networks', 'car_crashes', 'diamonds', 'dots', 'dowjones', 'exercise', 'flights', 'fmri', 'geyser', 'glue', 'healthexp', 'iris', 'mpg', 'penguins', 'planets', 'seaice', 'taxis', 'tips', 'titanic']\n"
     ]
    }
   ],
   "source": [
    "# Find available dataset names in seaborn\n",
    "print(sns.get_dataset_names())"
   ]
  },
  {
   "cell_type": "code",
   "execution_count": 14,
   "id": "6b46f2e0",
   "metadata": {},
   "outputs": [
    {
     "name": "stdout",
     "output_type": "stream",
     "text": [
      "   year month  passengers\n",
      "0  1949   Jan         112\n",
      "1  1949   Feb         118\n",
      "2  1949   Mar         132\n",
      "3  1949   Apr         129\n",
      "4  1949   May         121\n"
     ]
    }
   ],
   "source": [
    "df = sns.load_dataset('flights')\n",
    "print(df.head())\n",
    "# we get only year nd month for the date, we need day also"
   ]
  },
  {
   "cell_type": "code",
   "execution_count": 15,
   "id": "be26fc24",
   "metadata": {},
   "outputs": [
    {
     "name": "stdout",
     "output_type": "stream",
     "text": [
      "<class 'pandas.core.frame.DataFrame'>\n",
      "RangeIndex: 144 entries, 0 to 143\n",
      "Data columns (total 4 columns):\n",
      " #   Column      Non-Null Count  Dtype   \n",
      "---  ------      --------------  -----   \n",
      " 0   year        144 non-null    int64   \n",
      " 1   month       144 non-null    category\n",
      " 2   passengers  144 non-null    int64   \n",
      " 3   yearMonth   144 non-null    object  \n",
      "dtypes: category(1), int64(2), object(1)\n",
      "memory usage: 4.0+ KB\n",
      "None\n"
     ]
    }
   ],
   "source": [
    "# convert the date to a YYYY-MM-DD format in a new column named yearMonth\n",
    "df['yearMonth'] = \"01-\" +df['month'].astype(str)+\"-\"+df['year'].astype(str)\n",
    "print(df.info())"
   ]
  },
  {
   "cell_type": "code",
   "execution_count": 16,
   "id": "9bf0ae1d",
   "metadata": {},
   "outputs": [
    {
     "name": "stdout",
     "output_type": "stream",
     "text": [
      "<class 'pandas.core.frame.DataFrame'>\n",
      "RangeIndex: 144 entries, 0 to 143\n",
      "Data columns (total 4 columns):\n",
      " #   Column      Non-Null Count  Dtype         \n",
      "---  ------      --------------  -----         \n",
      " 0   year        144 non-null    int64         \n",
      " 1   month       144 non-null    category      \n",
      " 2   passengers  144 non-null    int64         \n",
      " 3   yearMonth   144 non-null    datetime64[ns]\n",
      "dtypes: category(1), datetime64[ns](1), int64(2)\n",
      "memory usage: 4.0 KB\n",
      "None\n",
      "   year month  passengers  yearMonth\n",
      "0  1949   Jan         112 1949-01-01\n",
      "1  1949   Feb         118 1949-02-01\n",
      "2  1949   Mar         132 1949-03-01\n",
      "3  1949   Apr         129 1949-04-01\n",
      "4  1949   May         121 1949-05-01\n"
     ]
    }
   ],
   "source": [
    "# yearMonth is of type object - we may have problems later , o convert it into datetime\n",
    "df['yearMonth'] = pd.to_datetime(\"01-\"+df['month'].astype(str)+\"-\"+df['year'].astype(str))\n",
    "print(df.info())\n",
    "print(df.head())"
   ]
  },
  {
   "cell_type": "code",
   "execution_count": 17,
   "id": "706f7fdb",
   "metadata": {},
   "outputs": [
    {
     "name": "stdout",
     "output_type": "stream",
     "text": [
      "            year month  passengers\n",
      "yearMonth                         \n",
      "1949-01-01  1949   Jan         112\n",
      "1949-02-01  1949   Feb         118\n",
      "1949-03-01  1949   Mar         132\n",
      "1949-04-01  1949   Apr         129\n",
      "1949-05-01  1949   May         121\n"
     ]
    }
   ],
   "source": [
    "# Make yearMonth column as the dataframe index\n",
    "df.set_index('yearMonth',inplace=True) # inplac will make permanent changes to the DF\n",
    "print(df.head())"
   ]
  },
  {
   "cell_type": "code",
   "execution_count": 23,
   "id": "13178185",
   "metadata": {},
   "outputs": [
    {
     "name": "stdout",
     "output_type": "stream",
     "text": [
      "yearMonth\n",
      "1949-01-01           NaN\n",
      "1949-02-01           NaN\n",
      "1949-03-01           NaN\n",
      "1949-04-01           NaN\n",
      "1949-05-01           NaN\n",
      "                 ...    \n",
      "1960-08-01    463.333333\n",
      "1960-09-01    467.083333\n",
      "1960-10-01    471.583333\n",
      "1960-11-01    473.916667\n",
      "1960-12-01    476.166667\n",
      "Name: rollMean, Length: 144, dtype: float64\n",
      "yearMonth\n",
      "1949-01-01          NaN\n",
      "1949-02-01          NaN\n",
      "1949-03-01          NaN\n",
      "1949-04-01          NaN\n",
      "1949-05-01          NaN\n",
      "                ...    \n",
      "1960-08-01    83.630500\n",
      "1960-09-01    84.617276\n",
      "1960-10-01    82.541954\n",
      "1960-11-01    79.502382\n",
      "1960-12-01    77.737125\n",
      "Name: rollStd, Length: 144, dtype: float64\n"
     ]
    }
   ],
   "source": [
    "# upward trend and clear seasonality\n",
    "\n",
    "# calculate and plot rolling mean and std deviation for 12 months\n",
    "\n",
    "df['rollMean'] = df.passengers.rolling(window=12).mean()\n",
    "df['rollStd'] = df.passengers.rolling(window=12).std()\n",
    "\n",
    "print(df['rollMean'])\n",
    "print(df['rollStd'])\n"
   ]
  },
  {
   "cell_type": "code",
   "execution_count": 25,
   "id": "4a0e24cf",
   "metadata": {},
   "outputs": [
    {
     "data": {
      "image/png": "[encoded data removed]",
      "text/plain": [
       "<Figure size 720x360 with 1 Axes>"
      ]
     },
     "metadata": {
      "needs_background": "light"
     },
     "output_type": "display_data"
    }
   ],
   "source": [
    "plt.figure(figsize=(10,5))\n",
    "sns.lineplot(data=df, x=df.index, y=df.passengers)\n",
    "sns.lineplot(data=df, x=df.index, y=df.rollMean)\n",
    "sns.lineplot(data=df, x=df.index, y=df['rollStd'])\n",
    "plt.show()\n",
    "\n",
    "# Conclusion : Mean is not stationary, SD is stationary ; so our data is not stationary"
   ]
  },
  {
   "cell_type": "markdown",
   "id": "f6066339",
   "metadata": {},
   "source": [
    "Now let us perform the ADF Test"
   ]
  },
  {
   "cell_type": "code",
   "execution_count": null,
   "id": "a98cfe3b",
   "metadata": {},
   "outputs": [
    {
     "name": "stdout",
     "output_type": "stream",
     "text": [
      "(0.8153688792060431, 0.9918802434376409, 13, 130, {'1%': -3.4816817173418295, '5%': -2.8840418343195267, '10%': -2.578770059171598}, 996.6929308390189)\n",
      "Test Statistic                   0.815369\n",
      "p-value                          0.991880\n",
      "#lags used                      13.000000\n",
      "number of observations used    130.000000\n",
      "dtype: float64\n",
      "criticality 1% : -3.4816817173418295\n",
      "criticality 5% : -2.8840418343195267\n",
      "criticality 10% : -2.578770059171598\n"
     ]
    }
   ],
   "source": [
    "from statsmodels.tsa.stattools import adfuller\n",
    "adfTest = adfuller(df['passengers'])\n",
    "print(adfTest)   # let us interpret these values below by converting into a series\n",
    "\n",
    "stats = pd.Series(adfTest[0:4], index=['Test Statistic','p-value','#lags used','number of observations used'])\n",
    "print(stats)\n",
    "\n",
    "# H0 : Time series is not stationary\n",
    "for key, values in adfTest[4].items():\n",
    "    print('criticality',key,\":\",values)\n"
   ]
  },
  {
   "cell_type": "code",
   "execution_count": null,
   "id": "2e1cc3bb",
   "metadata": {},
   "outputs": [],
   "source": []
  }
 ],
 "metadata": {
  "kernelspec": {
   "display_name": "base",
   "language": "python",
   "name": "python3"
  },
  "language_info": {
   "codemirror_mode": {
    "name": "ipython",
    "version": 3
   },
   "file_extension": ".py",
   "mimetype": "text/x-python",
   "name": "python",
   "nbconvert_exporter": "python",
   "pygments_lexer": "ipython3",
   "version": "3.8.5"
  }
 },
 "nbformat": 4,
 "nbformat_minor": 5
}
