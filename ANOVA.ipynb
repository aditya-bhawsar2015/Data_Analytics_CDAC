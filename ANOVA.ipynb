{
 "cells": [
  {
   "cell_type": "code",
   "execution_count": 1,
   "id": "fa0d7677",
   "metadata": {},
   "outputs": [],
   "source": [
    "from scipy.stats import f_oneway\n",
    "from scipy import stats\n",
    "import pandas as pd"
   ]
  },
  {
   "cell_type": "code",
   "execution_count": 2,
   "id": "3613febf",
   "metadata": {},
   "outputs": [
    {
     "name": "stdout",
     "output_type": "stream",
     "text": [
      "   custid  sex  AqChannel  region  Marital_status  segment  pre_usage  \\\n",
      "0      70    0          4       1               1        1         57   \n",
      "1     121    1          4       2               1        3         68   \n",
      "2      86    0          4       3               1        1         44   \n",
      "3     141    0          4       3               1        3         63   \n",
      "4     172    0          4       2               1        2         47   \n",
      "\n",
      "   Post_usage_1month  Latest_mon_usage  post_usage_2ndmonth  \n",
      "0                 52              49.2                 57.2  \n",
      "1                 59              63.6                 64.9  \n",
      "2                 33              64.8                 36.3  \n",
      "3                 44              56.4                 48.4  \n",
      "4                 52              68.4                 57.2  \n"
     ]
    }
   ],
   "source": [
    "df = pd.read_csv('cust_seg.csv')\n",
    "print(df.head())"
   ]
  },
  {
   "cell_type": "code",
   "execution_count": 3,
   "id": "e09d2a50",
   "metadata": {},
   "outputs": [
    {
     "name": "stdout",
     "output_type": "stream",
     "text": [
      "29.279283801321778\n",
      "3.7588251784051874\n",
      "7.36401083352674e-12\n",
      "Reject H0\n"
     ]
    }
   ],
   "source": [
    "s1 = df.Latest_mon_usage[df.segment == 1]\n",
    "s2 = df.Latest_mon_usage[df.segment == 2]\n",
    "s3 = df.Latest_mon_usage[df.segment == 3]\n",
    "\n",
    "#ANOVA\n",
    "fstat , pval = f_oneway(s1, s2, s3)\n",
    "\n",
    "# avoid doing the below one if comes in lab exam : directly compare pval and alpha\n",
    "between_df = len([s1, s2, s3]) - 1 # Number of groups -1\n",
    "within_df = len(s1) + len(s2) + len(s3) - len([s1, s2, s3])\n",
    "\n",
    "alpha = 0.025\n",
    "critical_value = stats.f.ppf(1 - alpha ,between_df, within_df)\n",
    "\n",
    "print(fstat)\n",
    "print(critical_value)\n",
    "print(pval)\n",
    "\n",
    "if pval < alpha:\n",
    "    print(\"Reject H0\")\n",
    "else:\n",
    "    print(\"Failed to reject H0\")    \n",
    "\n",
    "\n",
    "\n",
    "\n",
    "\n",
    "\n",
    "\n"
   ]
  }
 ],
 "metadata": {
  "kernelspec": {
   "display_name": "base",
   "language": "python",
   "name": "python3"
  },
  "language_info": {
   "codemirror_mode": {
    "name": "ipython",
    "version": 3
   },
   "file_extension": ".py",
   "mimetype": "text/x-python",
   "name": "python",
   "nbconvert_exporter": "python",
   "pygments_lexer": "ipython3",
   "version": "3.8.5"
  }
 },
 "nbformat": 4,
 "nbformat_minor": 5
}
