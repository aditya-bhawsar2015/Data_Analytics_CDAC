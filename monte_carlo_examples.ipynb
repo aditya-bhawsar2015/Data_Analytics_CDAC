{
 "cells": [
  {
   "cell_type": "code",
   "execution_count": 12,
   "id": "67ad1bea",
   "metadata": {},
   "outputs": [],
   "source": [
    "import numpy as np"
   ]
  },
  {
   "cell_type": "code",
   "execution_count": 13,
   "id": "66dba8c4",
   "metadata": {},
   "outputs": [],
   "source": [
    "# Part 1 : ROLLING DICE EXAMPLE\n",
    "def roll_dice():\n",
    "    # Simulation of rolling a dice twice, min num we get is 1 , max is 6 \n",
    "    # Add the results of the two simulations, so possibl values will be:\n",
    "    # (1,1) or (1,2) ... (6,6) ... Sum will be between 2 to 12\n",
    "    # Run Multiple times to verify \n",
    "    return np.sum(np.random.randint(1,7,2))"
   ]
  },
  {
   "cell_type": "code",
   "execution_count": 14,
   "id": "5c184c4d",
   "metadata": {},
   "outputs": [
    {
     "name": "stdout",
     "output_type": "stream",
     "text": [
      "6\n"
     ]
    }
   ],
   "source": [
    "print(roll_dice())"
   ]
  },
  {
   "cell_type": "code",
   "execution_count": 15,
   "id": "2b66163f",
   "metadata": {},
   "outputs": [],
   "source": [
    "# Part 2 : CASINO CASE EXAMPLE\n",
    "# Someone approaches us saying I will give you $5 if you get 7 & take $1 if you get a num other than 7\n",
    "# How do we know what will happen?\n",
    "# Our own \"Monte carlo simulation\" like function\n",
    "\n",
    "from unittest import result\n",
    "\n",
    "\n",
    "def monte_carlo_simulation(runs=1000):\n",
    "    results = np.zeros(2)       # An array, results[0] and results[1] initialized to two zeroes\n",
    "    for _ in range(runs):\n",
    "        if roll_dice() == 7:\n",
    "            results[0] +=1\n",
    "        else:\n",
    "            results[1] +=1\n",
    "    return results"
   ]
  },
  {
   "cell_type": "code",
   "execution_count": 16,
   "id": "12e08b4e",
   "metadata": {},
   "outputs": [
    {
     "name": "stdout",
     "output_type": "stream",
     "text": [
      "[157. 843.]\n",
      "[147. 853.]\n",
      "[183. 817.]\n"
     ]
    }
   ],
   "source": [
    "# Test 2-3 times and calculate how much will you win versus lose\n",
    "print(monte_carlo_simulation())\n",
    "print(monte_carlo_simulation())\n",
    "print(monte_carlo_simulation())\n",
    "# Results may be favourable to us, but was that by luck?"
   ]
  },
  {
   "cell_type": "code",
   "execution_count": 17,
   "id": "cc6eee6d",
   "metadata": {},
   "outputs": [
    {
     "name": "stdout",
     "output_type": "stream",
     "text": [
      "[161. 164. 153. 190. 162. 162. 169. 168. 171. 178. 174. 177. 167. 168.\n",
      " 179. 148. 171. 175. 176. 160. 172. 171. 161. 187. 159. 186. 207. 144.\n",
      " 166. 172. 191. 164. 182. 172. 168. 178. 154. 154. 185. 153. 176. 174.\n",
      " 170. 176. 169. 172. 169. 159. 148. 141. 164. 173. 178. 163. 172. 175.\n",
      " 169. 164. 186. 182. 181. 182. 142. 159. 151. 167. 160. 179. 178. 153.\n",
      " 182. 184. 156. 159. 161. 169. 155. 168. 167. 171. 156. 163. 157. 171.\n",
      " 179. 161. 174. 178. 170. 161. 157. 163. 168. 180. 175. 179. 161. 171.\n",
      " 146. 185. 162. 168. 176. 194. 178. 169. 163. 165. 184. 174. 175. 160.\n",
      " 169. 173. 169. 167. 177. 168. 172. 164. 171. 156. 164. 177. 184. 161.\n",
      " 155. 158. 151. 171. 176. 180. 173. 179. 168. 176. 207. 161. 162. 180.\n",
      " 156. 179. 172. 176. 147. 173. 162. 161. 159. 155. 172. 175. 165. 185.\n",
      " 174. 169. 153. 166. 155. 166. 163. 158. 157. 159. 171. 157. 155. 152.\n",
      " 181. 167. 161. 168. 175. 184. 177. 190. 174. 150. 152. 186. 164. 178.\n",
      " 162. 170. 180. 184. 167. 161. 187. 197. 152. 163. 175. 159. 172. 173.\n",
      " 179. 161. 181. 181. 182. 152. 186. 173. 179. 163. 161. 159. 188. 163.\n",
      " 161. 143. 174. 156. 168. 156. 184. 162. 144. 168. 158. 177. 176. 156.\n",
      " 160. 163. 156. 172. 153. 145. 156. 163. 161. 182. 161. 159. 150. 185.\n",
      " 157. 158. 170. 169. 151. 164. 160. 162. 175. 175. 156. 184. 162. 178.\n",
      " 153. 159. 161. 152. 159. 167. 155. 169. 178. 162. 148. 149. 159. 147.\n",
      " 168. 168. 182. 162. 160. 162. 153. 160. 155. 172. 156. 167. 167. 161.\n",
      " 202. 170. 174. 163. 150. 165. 165. 170. 164. 183. 181. 163. 167. 160.\n",
      " 149. 152. 169. 143. 178. 189. 182. 151. 166. 176. 151. 175. 174. 174.\n",
      " 150. 188. 176. 184. 178. 167. 158. 155. 172. 170. 180. 170. 173. 170.\n",
      " 182. 157. 170. 170. 169. 179. 166. 172. 167. 150. 158. 171. 156. 148.\n",
      " 162. 168. 166. 175. 167. 177. 156. 168. 164. 169. 167. 155. 166. 169.\n",
      " 170. 174. 160. 170. 166. 161. 144. 179. 153. 174. 170. 166. 172. 176.\n",
      " 178. 164. 164. 176. 186. 165. 175. 164. 166. 150. 145. 155. 172. 175.\n",
      " 159. 170. 158. 172. 148. 164. 175. 154. 156. 181. 185. 165. 175. 145.\n",
      " 182. 156. 153. 171. 156. 182. 164. 167. 152. 191. 165. 173. 159. 157.\n",
      " 170. 160. 177. 164. 159. 140. 160. 169. 167. 156. 163. 167. 176. 148.\n",
      " 149. 172. 152. 171. 161. 155. 162. 156. 181. 161. 167. 158. 175. 176.\n",
      " 168. 170. 169. 141. 187. 150. 151. 170. 156. 162. 179. 155. 176. 145.\n",
      " 153. 182. 187. 176. 158. 141. 163. 146. 174. 164. 160. 183. 176. 168.\n",
      " 148. 159. 183. 159. 162. 163. 160. 168. 167. 174. 173. 169. 174. 166.\n",
      " 152. 173. 158. 152. 170. 163. 182. 152. 169. 163. 151. 158. 152. 168.\n",
      " 171. 175. 152. 183. 153. 185. 166. 155. 195. 169. 151. 175. 161. 178.\n",
      " 149. 158. 160. 156. 157. 167. 180. 149. 169. 159. 142. 160. 185. 169.\n",
      " 168. 160. 142. 158. 161. 143. 167. 158. 156. 187. 175. 147. 168. 172.\n",
      " 181. 167. 187. 153. 158. 169. 159. 149. 181. 167. 147. 162. 146. 166.\n",
      " 177. 176. 162. 173. 158. 167. 171. 167. 157. 167. 174. 157. 178. 184.\n",
      " 174. 155. 160. 149. 183. 186. 150. 164. 160. 174. 172. 190. 170. 169.\n",
      " 178. 166. 160. 174. 160. 154. 160. 152. 181. 151. 156. 158. 167. 164.\n",
      " 166. 168. 181. 165. 162. 164. 167. 158. 160. 168. 155. 160. 159. 162.\n",
      " 179. 201. 168. 161. 165. 165. 149. 187. 149. 173. 155. 163. 172. 150.\n",
      " 159. 155. 162. 148. 184. 176. 156. 170. 176. 177. 153. 169. 181. 182.\n",
      " 163. 156. 154. 179. 151. 153. 174. 166. 178. 166. 154. 165. 184. 164.\n",
      " 157. 148. 168. 145. 173. 157. 158. 176. 163. 160. 163. 149. 157. 155.\n",
      " 192. 171. 145. 161. 175. 162. 156. 183. 172. 155. 170. 160. 165. 167.\n",
      " 179. 164. 165. 156. 162. 170. 165. 156. 159. 154. 165. 140. 175. 163.\n",
      " 168. 191. 190. 172. 190. 186. 167. 151. 173. 155. 180. 158. 161. 143.\n",
      " 173. 165. 170. 151. 167. 165. 167. 166. 147. 163. 157. 179. 178. 161.\n",
      " 180. 158. 168. 141. 169. 152. 177. 156. 168. 177. 149. 162. 167. 168.\n",
      " 154. 181. 164. 160. 166. 154. 156. 152. 177. 178. 166. 167. 150. 170.\n",
      " 170. 157. 183. 161. 165. 156. 169. 162. 171. 208. 181. 149. 147. 161.\n",
      " 167. 148. 157. 155. 168. 159. 176. 155. 180. 155. 173. 173. 163. 174.\n",
      " 168. 164. 183. 171. 160. 160. 176. 161. 168. 178. 163. 177. 152. 159.\n",
      " 181. 180. 163. 158. 156. 176. 176. 174. 172. 168. 155. 167. 168. 186.\n",
      " 159. 167. 159. 186. 181. 162. 164. 156. 159. 154. 170. 177. 168. 187.\n",
      " 155. 160. 175. 207. 190. 144. 173. 174. 152. 162. 166. 179. 170. 184.\n",
      " 170. 160. 156. 166. 159. 169. 143. 173. 151. 174. 153. 180. 161. 164.\n",
      " 158. 169. 178. 172. 180. 166. 146. 182. 146. 169. 189. 161. 158. 152.\n",
      " 180. 171. 188. 176. 156. 156. 151. 165. 177. 164. 166. 182. 190. 169.\n",
      " 153. 153. 183. 164. 185. 188. 182. 170. 184. 175. 156. 157. 191. 159.\n",
      " 154. 185. 165. 179. 167. 156. 185. 175. 174. 168. 184. 155. 167. 167.\n",
      " 190. 174. 156. 150. 172. 179. 174. 171. 167. 174. 164. 178. 156. 153.\n",
      " 178. 168. 152. 190. 181. 176. 185. 168. 147. 177. 142. 189. 173. 173.\n",
      " 165. 155. 148. 172. 159. 175. 167. 164. 147. 163. 169. 176. 175. 139.\n",
      " 143. 147. 166. 157. 182. 153. 187. 164. 181. 182. 148. 163. 163. 179.\n",
      " 165. 163. 157. 185. 164. 158. 161. 179. 184. 174. 183. 181. 181. 174.\n",
      " 181. 153. 147. 175. 184. 172. 175. 176. 142. 157. 162. 170. 167. 147.\n",
      " 167. 166. 176. 151. 156. 161. 167. 149. 180. 151. 178. 155. 168. 162.\n",
      " 156. 163. 176. 177. 177. 169.]\n"
     ]
    }
   ],
   "source": [
    "# Part 3 : \n",
    "# Now do it 1000 times .... Takes some extra amount of time\n",
    "\n",
    "results = np.zeros(1000)\n",
    "\n",
    "for i in range(1000):\n",
    "    results[i] = monte_carlo_simulation()[0]\n",
    "\n",
    "print(results)"
   ]
  },
  {
   "cell_type": "code",
   "execution_count": 21,
   "id": "b2465aca",
   "metadata": {},
   "outputs": [
    {
     "data": {
      "image/png": "[encoded data removed]",
      "text/plain": [
       "<Figure size 432x288 with 1 Axes>"
      ]
     },
     "metadata": {
      "needs_background": "light"
     },
     "output_type": "display_data"
    }
   ],
   "source": [
    "# Let u splot it\n",
    "import matplotlib.pyplot as plt\n",
    "fig, ax = plt.subplots()\n",
    "ax.hist(results, bins=20)\n",
    "plt.show()"
   ]
  },
  {
   "cell_type": "code",
   "execution_count": 22,
   "id": "f76ab6bc",
   "metadata": {},
   "outputs": [
    {
     "name": "stdout",
     "output_type": "stream",
     "text": [
      "166.541\n",
      "832.7049999999999\n",
      "791.06975\n",
      "833.4590000000001\n",
      "0.166541\n"
     ]
    }
   ],
   "source": [
    "# Our win/loss \n",
    "print(results.mean())           # General mean\n",
    "print(results.mean()*5)         # what will we get as win on an average\n",
    "print(results.mean()*4.75)      # just a marginal change in the win reward - see the impact\n",
    "print(1000 - results.mean())    # What we will pay on an average\n",
    "print(results.mean()/1000)      # probability of the 'we will win' result\n",
    "# The last probability should be close to the theoritical probability of getting a 7 when we throw two dice (Why? 1+6, 2+5,3+4,4+3,,5+2,6+1 = 6 out of 36 states)"
   ]
  }
 ],
 "metadata": {
  "kernelspec": {
   "display_name": "base",
   "language": "python",
   "name": "python3"
  },
  "language_info": {
   "codemirror_mode": {
    "name": "ipython",
    "version": 3
   },
   "file_extension": ".py",
   "mimetype": "text/x-python",
   "name": "python",
   "nbconvert_exporter": "python",
   "pygments_lexer": "ipython3",
   "version": "3.8.5"
  }
 },
 "nbformat": 4,
 "nbformat_minor": 5
}
