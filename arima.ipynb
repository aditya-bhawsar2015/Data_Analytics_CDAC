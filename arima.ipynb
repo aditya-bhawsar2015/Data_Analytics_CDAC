{
 "cells": [
  {
   "cell_type": "code",
   "execution_count": 9,
   "id": "a07cbd37",
   "metadata": {},
   "outputs": [],
   "source": [
    "import pandas as pd\n",
    "import numpy as np\n",
    "import matplotlib.pyplot as plt\n",
    "import seaborn as sns"
   ]
  },
  {
   "cell_type": "code",
   "execution_count": 10,
   "id": "f0eaaaa7",
   "metadata": {},
   "outputs": [
    {
     "name": "stdout",
     "output_type": "stream",
     "text": [
      "['anagrams', 'anscombe', 'attention', 'brain_networks', 'car_crashes', 'diamonds', 'dots', 'dowjones', 'exercise', 'flights', 'fmri', 'geyser', 'glue', 'healthexp', 'iris', 'mpg', 'penguins', 'planets', 'seaice', 'taxis', 'tips', 'titanic', 'anagrams', 'anagrams', 'anscombe', 'anscombe', 'attention', 'attention', 'brain_networks', 'brain_networks', 'car_crashes', 'car_crashes', 'diamonds', 'diamonds', 'dots', 'dots', 'dowjones', 'dowjones', 'exercise', 'exercise', 'flights', 'flights', 'fmri', 'fmri', 'geyser', 'geyser', 'glue', 'glue', 'healthexp', 'healthexp', 'iris', 'iris', 'mpg', 'mpg', 'penguins', 'penguins', 'planets', 'planets', 'seaice', 'seaice', 'taxis', 'taxis', 'tips', 'tips', 'titanic', 'titanic', 'anagrams', 'anscombe', 'attention', 'brain_networks', 'car_crashes', 'diamonds', 'dots', 'dowjones', 'exercise', 'flights', 'fmri', 'geyser', 'glue', 'healthexp', 'iris', 'mpg', 'penguins', 'planets', 'seaice', 'taxis', 'tips', 'titanic']\n"
     ]
    }
   ],
   "source": [
    "# Find available dataset names in seaborn\n",
    "print(sns.get_dataset_names())"
   ]
  },
  {
   "cell_type": "code",
   "execution_count": 11,
   "id": "ddc9671a",
   "metadata": {},
   "outputs": [
    {
     "name": "stdout",
     "output_type": "stream",
     "text": [
      "   year month  passengers\n",
      "0  1949   Jan         112\n",
      "1  1949   Feb         118\n",
      "2  1949   Mar         132\n",
      "3  1949   Apr         129\n",
      "4  1949   May         121\n"
     ]
    }
   ],
   "source": [
    "df = sns.load_dataset('flights')\n",
    "print(df.head())\n",
    "# we get only year nd month for the date, we need day also"
   ]
  },
  {
   "cell_type": "code",
   "execution_count": 12,
   "id": "c90707de",
   "metadata": {},
   "outputs": [
    {
     "name": "stdout",
     "output_type": "stream",
     "text": [
      "<class 'pandas.core.frame.DataFrame'>\n",
      "RangeIndex: 144 entries, 0 to 143\n",
      "Data columns (total 4 columns):\n",
      " #   Column      Non-Null Count  Dtype   \n",
      "---  ------      --------------  -----   \n",
      " 0   year        144 non-null    int64   \n",
      " 1   month       144 non-null    category\n",
      " 2   passengers  144 non-null    int64   \n",
      " 3   yearMonth   144 non-null    object  \n",
      "dtypes: category(1), int64(2), object(1)\n",
      "memory usage: 4.0+ KB\n",
      "None\n"
     ]
    }
   ],
   "source": [
    "# convert the date to a YYYY-MM-DD format in a new column named yearMonth\n",
    "df['yearMonth'] = \"01-\" +df['month'].astype(str)+\"-\"+df['year'].astype(str)\n",
    "print(df.info())"
   ]
  },
  {
   "cell_type": "code",
   "execution_count": 13,
   "id": "8bbbd699",
   "metadata": {},
   "outputs": [
    {
     "name": "stdout",
     "output_type": "stream",
     "text": [
      "<class 'pandas.core.frame.DataFrame'>\n",
      "RangeIndex: 144 entries, 0 to 143\n",
      "Data columns (total 4 columns):\n",
      " #   Column      Non-Null Count  Dtype         \n",
      "---  ------      --------------  -----         \n",
      " 0   year        144 non-null    int64         \n",
      " 1   month       144 non-null    category      \n",
      " 2   passengers  144 non-null    int64         \n",
      " 3   yearMonth   144 non-null    datetime64[ns]\n",
      "dtypes: category(1), datetime64[ns](1), int64(2)\n",
      "memory usage: 4.0 KB\n",
      "None\n",
      "   year month  passengers  yearMonth\n",
      "0  1949   Jan         112 1949-01-01\n",
      "1  1949   Feb         118 1949-02-01\n",
      "2  1949   Mar         132 1949-03-01\n",
      "3  1949   Apr         129 1949-04-01\n",
      "4  1949   May         121 1949-05-01\n"
     ]
    }
   ],
   "source": [
    "# yearMonth is of type object - we may have problems later , o convert it into datetime\n",
    "df['yearMonth'] = pd.to_datetime(\"01-\"+df['month'].astype(str)+\"-\"+df['year'].astype(str))\n",
    "print(df.info())\n",
    "print(df.head())"
   ]
  },
  {
   "cell_type": "code",
   "execution_count": 14,
   "id": "be2c1edc",
   "metadata": {},
   "outputs": [
    {
     "name": "stdout",
     "output_type": "stream",
     "text": [
      "            year month  passengers\n",
      "yearMonth                         \n",
      "1949-01-01  1949   Jan         112\n",
      "1949-02-01  1949   Feb         118\n",
      "1949-03-01  1949   Mar         132\n",
      "1949-04-01  1949   Apr         129\n",
      "1949-05-01  1949   May         121\n"
     ]
    }
   ],
   "source": [
    "# Make yearMonth column as the dataframe index\n",
    "df.set_index('yearMonth',inplace=True) # inplac will make permanent changes to the DF\n",
    "print(df.head())"
   ]
  },
  {
   "cell_type": "code",
   "execution_count": 15,
   "id": "63d1629d",
   "metadata": {},
   "outputs": [],
   "source": [
    "def test_stationarity(dataFrame, var):\n",
    "    dataFrame['rollMean'] = dataFrame[var].rolling(window=12).mean()\n",
    "    dataFrame['rollStd'] = dataFrame[var].rolling(window=12).std()\n",
    "    from statsmodels.tsa.stattools import adfuller\n",
    "    adfTest = adfuller(dataFrame[var])\n",
    "    stats = pd.Series(adfTest[0:4], index=['Test Statistic', 'p-value', '#lags used', 'number of observations used'])\n",
    "    print(stats)\n",
    "    for key, values in adfTest[4].items():\n",
    "        print('criticality', key,\":\",values)\n",
    "    sns.lineplot(data= dataFrame,x= dataFrame.index, y= var)\n",
    "    sns.lineplot(data= dataFrame,x= dataFrame.index, y= 'rollMean')\n",
    "    sns.lineplot(data= dataFrame,x= dataFrame.index, y= 'rollStd')    \n",
    "    plt.show()"
   ]
  },
  {
   "cell_type": "code",
   "execution_count": 16,
   "id": "928f7127",
   "metadata": {},
   "outputs": [],
   "source": [
    "airP = df[['passengers']].copy()\n",
    "# Create columns for one month and one year lagged data\n",
    "airP['firstDiff'] = airP['passengers'].diff()\n",
    "airP['Diff12'] = airP['passengers'].diff(12)    # this will be used later in sa==SARIMAX"
   ]
  },
  {
   "cell_type": "code",
   "execution_count": null,
   "id": "376b6fb5",
   "metadata": {},
   "outputs": [
    {
     "data": {
      "image/png": "[encoded data removed]",
      "text/plain": [
       "<Figure size 432x288 with 1 Axes>"
      ]
     },
     "metadata": {
      "needs_background": "light"
     },
     "output_type": "display_data"
    },
    {
     "data": {
      "image/png": "[encoded data removed]",
      "text/plain": [
       "<Figure size 432x288 with 1 Axes>"
      ]
     },
     "metadata": {
      "needs_background": "light"
     },
     "output_type": "display_data"
    },
    {
     "name": "stdout",
     "output_type": "stream",
     "text": [
      "            passengers  firstDiff  Diff12\n",
      "yearMonth                                \n",
      "1957-01-01         315        9.0    31.0\n",
      "1957-02-01         301      -14.0    24.0\n",
      "1957-03-01         356       55.0    39.0\n",
      "1957-04-01         348       -8.0    35.0\n",
      "1957-05-01         355        7.0    37.0\n",
      "            passengers  firstDiff  Diff12\n",
      "yearMonth                                \n",
      "1957-06-01         422       67.0    48.0\n",
      "1957-07-01         465       43.0    52.0\n",
      "1957-08-01         467        2.0    62.0\n",
      "1957-09-01         404      -63.0    49.0\n",
      "1957-10-01         347      -57.0    41.0\n"
     ]
    },
    {
     "name": "stderr",
     "output_type": "stream",
     "text": [
      "c:\\ProgramData\\Anaconda3\\lib\\site-packages\\statsmodels\\tsa\\base\\tsa_model.py:524: ValueWarning: No frequency information was provided, so inferred frequency MS will be used.\n",
      "  warnings.warn('No frequency information was'\n",
      "c:\\ProgramData\\Anaconda3\\lib\\site-packages\\statsmodels\\tsa\\base\\tsa_model.py:524: ValueWarning: No frequency information was provided, so inferred frequency MS will be used.\n",
      "  warnings.warn('No frequency information was'\n",
      "c:\\ProgramData\\Anaconda3\\lib\\site-packages\\statsmodels\\tsa\\base\\tsa_model.py:524: ValueWarning: No frequency information was provided, so inferred frequency MS will be used.\n",
      "  warnings.warn('No frequency information was'\n"
     ]
    },
    {
     "name": "stdout",
     "output_type": "stream",
     "text": [
      "            passengers  firstDiff  Diff12   arimaPred\n",
      "yearMonth                                            \n",
      "1960-08-01         606      -16.0    47.0  462.073152\n",
      "1960-09-01         508      -98.0    45.0  464.613358\n",
      "1960-10-01         461      -47.0    54.0  467.153578\n",
      "1960-11-01         390      -71.0    28.0  469.693789\n",
      "1960-12-01         432       42.0    27.0  472.234006\n"
     ]
    },
    {
     "data": {
      "image/png": "[encoded data removed]",
      "text/plain": [
       "<Figure size 432x288 with 1 Axes>"
      ]
     },
     "metadata": {
      "needs_background": "light"
     },
     "output_type": "display_data"
    }
   ],
   "source": [
    "from statsmodels.tsa.arima.model import ARIMA\n",
    "from statsmodels.graphics.tsaplots import plot_acf, plot_pacf\n",
    "\n",
    "plot_pacf(airP['firstDiff'].dropna(), lags=20)      # Gives us p\n",
    "plt.show()\n",
    "\n",
    "plot_acf(airP['firstDiff'].dropna(), lags=20)      # Gives us q\n",
    "plt.show()\n",
    "\n",
    "# let us take p = 1 , q=3 (both are significant) and d=2 (already known)\n",
    "# Build Arima model\n",
    "\n",
    "train = airP[:round(len(airP)*70/100)]      # Take the first 70% data\n",
    "print(train.tail())        # just to check where it ends\n",
    "test = airP[round(len(airP)*70/100) : ]     #Take the last 30% data, starting from 71\n",
    "print(test.head())         # just to check where it starts\n",
    "\n",
    "model = ARIMA(train['passengers'], order=(1,2,3))       # Parameters: p,d,q\n",
    "model_fit = model.fit()\n",
    "prediction = model_fit.predict(start = test.index[0], end= test.index[-1])\n",
    "airP['arimaPred'] = prediction\n",
    "print(airP.tail())\n",
    "\n",
    "# Plot\n",
    "sns.lineplot(data = airP, x = airP.index, y = 'passengers')\n",
    "sns.lineplot(data= airP, x = airP.index, y = 'arimaPred')\n",
    "plt.show()\n",
    "\n",
    "# Conclusion : The ARIMA prediction is not good "
   ]
  }
 ],
 "metadata": {
  "kernelspec": {
   "display_name": "base",
   "language": "python",
   "name": "python3"
  },
  "language_info": {
   "codemirror_mode": {
    "name": "ipython",
    "version": 3
   },
   "file_extension": ".py",
   "mimetype": "text/x-python",
   "name": "python",
   "nbconvert_exporter": "python",
   "pygments_lexer": "ipython3",
   "version": "3.8.5"
  }
 },
 "nbformat": 4,
 "nbformat_minor": 5
}
