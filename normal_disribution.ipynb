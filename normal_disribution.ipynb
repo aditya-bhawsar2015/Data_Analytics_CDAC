{
 "cells": [
  {
   "cell_type": "code",
   "execution_count": 2,
   "id": "d2c7f334",
   "metadata": {},
   "outputs": [
    {
     "name": "stdout",
     "output_type": "stream",
     "text": [
      "Mean of Glucose : 120.89453125\n",
      "Standard Deviation of Glucose : 31.97261819513622\n",
      "Z- score for glucose level of 168 (manual calculation) : 1.4733065794769926\n",
      "Percentile for glucose level of 168 : 92.96658063066623%\n"
     ]
    }
   ],
   "source": [
    "import pandas as pd\n",
    "import scipy.stats as stats\n",
    "from scipy.stats import zscore\n",
    "\n",
    "df = pd.read_csv(r'diabetes.csv')\n",
    "glucose_mean = df['Glucose'].mean()\n",
    "glucose_std = df['Glucose'].std()\n",
    "print(f\"Mean of Glucose : {glucose_mean}\")\n",
    "print(f\"Standard Deviation of Glucose : {glucose_std}\")\n",
    "\n",
    "# Calculate z-score for glucose level of 168 (using manual method)\n",
    "glucose_value = 168\n",
    "z_score_168_manual = (glucose_value - glucose_mean)/ glucose_std\n",
    "print(f'Z- score for glucose level of 168 (manual calculation) : {z_score_168_manual}')\n",
    "\n",
    "# calculate z score usning thwe z score function\n",
    "# this will add a col for the z score of glucose for each record\n",
    "df['Glucose_zscore'] = zscore(df['Glucose'])\n",
    "# print(df)\n",
    "\n",
    "# calculate the percentile for the z scpre\n",
    "percentile_168 = stats.norm.cdf(z_score_168_manual) * 100 # for percentage\n",
    "print(f\"Percentile for glucose level of 168 : {percentile_168}%\")\n"
   ]
  }
 ],
 "metadata": {
  "kernelspec": {
   "display_name": "base",
   "language": "python",
   "name": "python3"
  },
  "language_info": {
   "codemirror_mode": {
    "name": "ipython",
    "version": 3
   },
   "file_extension": ".py",
   "mimetype": "text/x-python",
   "name": "python",
   "nbconvert_exporter": "python",
   "pygments_lexer": "ipython3",
   "version": "3.8.5"
  }
 },
 "nbformat": 4,
 "nbformat_minor": 5
}
