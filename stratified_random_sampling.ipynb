{
 "cells": [
  {
   "cell_type": "code",
   "execution_count": 2,
   "id": "ae7721d7",
   "metadata": {},
   "outputs": [
    {
     "name": "stdout",
     "output_type": "stream",
     "text": [
      "\n",
      " Number of rows in the original dataframe : 79638\n",
      "\n",
      " Number of rows in the sample dataframe : 7963\n",
      "\n",
      "43482\n"
     ]
    }
   ],
   "source": [
    "import pandas as pd\n",
    "\n",
    "df_2015 = pd.read_csv('D:\\workspace\\DataAnalytics\\Day5\\marathon_results_2015.csv')\n",
    "df_2016 = pd.read_csv('D:\\workspace\\DataAnalytics\\Day5\\marathon_results_2016.csv')\n",
    "df_2017 = pd.read_csv('D:\\workspace\\DataAnalytics\\Day5\\marathon_results_2017.csv')\n",
    "\n",
    "df = pd.concat([df_2015, df_2016, df_2017])\n",
    "original_row_count = len(df)\n",
    "\n",
    "# Find the total number of male and female atheletes\n",
    "total_males = len(df[df['M/F'] == 'M'])\n",
    "total_females = len(df[df['M/F'] == 'F'])\n",
    "\n",
    "# Calculate the proportionate number of males and females atheletes for the sample\n",
    "sample_size = int(0.1 * original_row_count)\n",
    "sample_males = int(0.1 *  total_males)\n",
    "sample_females = int(0.1 * total_females)\n",
    "\n",
    "# Generate proportionte samples of male and female atheletes\n",
    "male_sample = df[df['M/F'] == 'M'].sample(n = sample_males, random_state=42)\n",
    "female_sample = df[df['M/F'] == 'F'].sample(n = sample_females, random_state= 42)\n",
    "\n",
    "# combine the male and female samples into a single dataframe\n",
    "\n",
    "sample_df = pd.concat([male_sample, female_sample])\n",
    "\n",
    "# Get total number of rows in the selected dataframe \n",
    "\n",
    "sample_row_count = len(sample_df)\n",
    "\n",
    "# Print the number of rows i the origonal and selectd dataframes\n",
    "\n",
    "print(f\"\\n Number of rows in the original dataframe : {original_row_count}\")\n",
    "print(f\"\\n Number of rows in the sample dataframe : {sample_row_count}\")\n",
    "\n",
    "print(f\"\\n{total_males }\")"
   ]
  }
 ],
 "metadata": {
  "kernelspec": {
   "display_name": "base",
   "language": "python",
   "name": "python3"
  },
  "language_info": {
   "codemirror_mode": {
    "name": "ipython",
    "version": 3
   },
   "file_extension": ".py",
   "mimetype": "text/x-python",
   "name": "python",
   "nbconvert_exporter": "python",
   "pygments_lexer": "ipython3",
   "version": "3.8.5"
  }
 },
 "nbformat": 4,
 "nbformat_minor": 5
}
