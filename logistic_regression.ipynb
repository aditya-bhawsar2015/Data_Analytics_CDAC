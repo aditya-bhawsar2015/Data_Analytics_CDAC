{
 "cells": [
  {
   "cell_type": "code",
   "execution_count": 1,
   "id": "f1a3fcfb",
   "metadata": {},
   "outputs": [],
   "source": [
    "import numpy as np\n",
    "import pandas as pd\n",
    "import matplotlib.pyplot as plt\n",
    "import seaborn as sns\n",
    "from sklearn.model_selection import train_test_split\n",
    "from sklearn.linear_model import LogisticRegression\n",
    "from sklearn.metrics import confusion_matrix, accuracy_score, classification_report"
   ]
  },
  {
   "cell_type": "code",
   "execution_count": 2,
   "id": "b5181346",
   "metadata": {},
   "outputs": [
    {
     "data": {
      "text/plain": [
       "LogisticRegression(solver='liblinear')"
      ]
     },
     "execution_count": 2,
     "metadata": {},
     "output_type": "execute_result"
    }
   ],
   "source": [
    "import random\n",
    "\n",
    "\n",
    "df = pd.read_csv('diabetes.csv')\n",
    "\n",
    "# Split the dataset into predictor variables X and the target variable y\n",
    "X = df.drop(\"Outcome\", axis=1)\n",
    "y = df['Outcome']\n",
    "\n",
    "# Split data into training and testing sets\n",
    "X_train , X_test, y_train, y_test = train_test_split(X, y, test_size=0.3, random_state= 1)\n",
    "\n",
    "# Create and train a logistic regression model\n",
    "classifier = LogisticRegression(solver='liblinear')\n",
    "classifier.fit(X_train, y_train)"
   ]
  },
  {
   "cell_type": "code",
   "execution_count": 3,
   "id": "7051d22f",
   "metadata": {},
   "outputs": [
    {
     "name": "stdout",
     "output_type": "stream",
     "text": [
      "     Actual  Predicted\n",
      "285       0          0\n",
      "101       0          0\n",
      "581       0          0\n",
      "352       0          0\n",
      "726       0          0\n",
      "472       0          0\n",
      "233       0          0\n",
      "385       0          0\n",
      "556       0          0\n",
      "59        0          0\n"
     ]
    }
   ],
   "source": [
    "# Make predictions\n",
    "y_test_prediction = classifier.predict(X_test)\n",
    "y_train_prediction = classifier.predict(X_train)\n",
    "\n",
    "# Display predictions comparision\n",
    "comparision = pd.DataFrame({'Actual': y_test, 'Predicted' : y_test_prediction})\n",
    "print(comparision.head(10))"
   ]
  },
  {
   "cell_type": "code",
   "execution_count": 5,
   "id": "403bbf13",
   "metadata": {},
   "outputs": [
    {
     "name": "stdout",
     "output_type": "stream",
     "text": [
      "Test Accuracy : 0.7749\n",
      "Train Accuracy : 0.7747\n"
     ]
    }
   ],
   "source": [
    "# Print Accuracy Score\n",
    "print(f\"Test Accuracy : {accuracy_score(y_test, y_test_prediction) :.4f}\")\n",
    "print(f\"Train Accuracy : {accuracy_score(y_train, y_train_prediction) :.4f}\")"
   ]
  },
  {
   "cell_type": "code",
   "execution_count": 6,
   "id": "7f813825",
   "metadata": {},
   "outputs": [
    {
     "name": "stdout",
     "output_type": "stream",
     "text": [
      "\n",
      "Confusion Matrix: \n",
      "[[132  14]\n",
      " [ 38  47]]\n"
     ]
    }
   ],
   "source": [
    "# Confusuion Matrix\n",
    "conf_mat = confusion_matrix(y_test, y_test_prediction)\n",
    "print(\"\\nConfusion Matrix: \")\n",
    "print(conf_mat)"
   ]
  },
  {
   "cell_type": "code",
   "execution_count": 7,
   "id": "248d0e7e",
   "metadata": {},
   "outputs": [
    {
     "data": {
      "image/png": "[encoded data removed]",
      "text/plain": [
       "<Figure size 576x432 with 2 Axes>"
      ]
     },
     "metadata": {
      "needs_background": "light"
     },
     "output_type": "display_data"
    }
   ],
   "source": [
    "# Visualize confusion matrix using a heatmap\n",
    "plt.figure(figsize=(8,6))\n",
    "sns.heatmap(conf_mat, annot=True, fmt='d', cmap='Blues', xticklabels=['Negative','Positive'], yticklabels=['Negative','Positive'])\n",
    "plt.title(\"Confusion Matrix\")\n",
    "plt.xlabel('Predicted')\n",
    "plt.ylabel('Actual')\n",
    "plt.show()"
   ]
  },
  {
   "cell_type": "code",
   "execution_count": 8,
   "id": "9b3e7c08",
   "metadata": {},
   "outputs": [
    {
     "name": "stdout",
     "output_type": "stream",
     "text": [
      "\n",
      " Classification Report : \n",
      "              precision    recall  f1-score   support\n",
      "\n",
      "           0       0.78      0.90      0.84       146\n",
      "           1       0.77      0.55      0.64        85\n",
      "\n",
      "    accuracy                           0.77       231\n",
      "   macro avg       0.77      0.73      0.74       231\n",
      "weighted avg       0.77      0.77      0.76       231\n",
      "\n"
     ]
    }
   ],
   "source": [
    "# Classification Report\n",
    "print(\"\\n Classification Report : \")\n",
    "print(classification_report(y_test, y_test_prediction))"
   ]
  },
  {
   "cell_type": "code",
   "execution_count": 9,
   "id": "d0cb60e6",
   "metadata": {},
   "outputs": [
    {
     "name": "stdout",
     "output_type": "stream",
     "text": [
      "Recall: 0.5529\n",
      "Precision: 0.7705\n",
      "Specifity: 0.9041\n",
      "Accuracy: 0.7749\n"
     ]
    }
   ],
   "source": [
    "# Calculate additional metrics\n",
    "TN, FP, FN, TP = conf_mat.ravel()\n",
    "recall = TP/(TP + FN)\n",
    "precision = TP/(TP + FP)\n",
    "specifity = TN/(TN+FP)\n",
    "accuracy = (TP + TN)/(TP+FP+FN+TN)\n",
    "\n",
    "print(f\"Recall: {recall:.4f}\")\n",
    "print(f\"Precision: {precision:.4f}\")\n",
    "print(f\"Specifity: {specifity:.4f}\")\n",
    "print(f\"Accuracy: {accuracy:.4f}\")"
   ]
  },
  {
   "cell_type": "code",
   "execution_count": null,
   "id": "ae7e6a8e",
   "metadata": {},
   "outputs": [],
   "source": []
  }
 ],
 "metadata": {
  "kernelspec": {
   "display_name": "base",
   "language": "python",
   "name": "python3"
  },
  "language_info": {
   "codemirror_mode": {
    "name": "ipython",
    "version": 3
   },
   "file_extension": ".py",
   "mimetype": "text/x-python",
   "name": "python",
   "nbconvert_exporter": "python",
   "pygments_lexer": "ipython3",
   "version": "3.8.5"
  }
 },
 "nbformat": 4,
 "nbformat_minor": 5
}
