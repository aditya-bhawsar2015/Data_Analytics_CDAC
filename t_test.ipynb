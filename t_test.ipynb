{
 "cells": [
  {
   "cell_type": "code",
   "execution_count": 1,
   "id": "c7872a3f",
   "metadata": {},
   "outputs": [],
   "source": [
    "import pandas as pd\n",
    "from scipy import stats"
   ]
  },
  {
   "cell_type": "code",
   "execution_count": 3,
   "id": "9c8ce6d1",
   "metadata": {},
   "outputs": [
    {
     "name": "stdout",
     "output_type": "stream",
     "text": [
      "T-statistics :  -0.4961562408721036\n",
      "P-value :  0.6235239355479085\n",
      "degrees of freedom : 29\n",
      "The null hypo cant be rejected\n",
      "critical value:  2.045229642132703\n",
      "The null hypo cant be rejected\n"
     ]
    }
   ],
   "source": [
    "data = pd.read_csv('Mall_Customers.csv')\n",
    "\n",
    "age_data = data['Age']\n",
    "\n",
    "age_data = age_data.sample(n=30, replace=False)\n",
    "\n",
    "# Hypothesized population averae age\n",
    "pop_avg_age = 40\n",
    "\n",
    "# perform one sample t-test\n",
    "t_statistics, p_value = stats.ttest_1samp(age_data,pop_avg_age)\n",
    "degree_of_freedom = len(age_data)-1\n",
    "\n",
    "print(\"T-statistics : \", t_statistics)\n",
    "print(\"P-value : \",p_value)\n",
    "print(\"degrees of freedom :\", degree_of_freedom)\n",
    "\n",
    "# Interpretation\n",
    "alpha = 0.025\n",
    "if p_value<alpha:\n",
    "    print(\"The null hypothesis(mean age = 40) is rejected\")\n",
    "else:\n",
    "    print(\"The null hypo cant be rejected\")    \n",
    "\n",
    "critical_value = stats.t.ppf(1 - alpha, degree_of_freedom)    \n",
    "print(\"critical value: \",critical_value)\n",
    "\n",
    "if (abs(t_statistics) < critical_value):\n",
    "    print(\"The null hypo cant be rejected\")\n",
    "else:\n",
    "    print(\"The null hypothesis(mean age = 40) is rejected\")\n",
    "\n"
   ]
  },
  {
   "cell_type": "code",
   "execution_count": null,
   "id": "a090cdde",
   "metadata": {},
   "outputs": [],
   "source": []
  }
 ],
 "metadata": {
  "kernelspec": {
   "display_name": "base",
   "language": "python",
   "name": "python3"
  },
  "language_info": {
   "codemirror_mode": {
    "name": "ipython",
    "version": 3
   },
   "file_extension": ".py",
   "mimetype": "text/x-python",
   "name": "python",
   "nbconvert_exporter": "python",
   "pygments_lexer": "ipython3",
   "version": "3.8.5"
  }
 },
 "nbformat": 4,
 "nbformat_minor": 5
}
