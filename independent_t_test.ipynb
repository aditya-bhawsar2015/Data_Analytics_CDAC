{
 "cells": [
  {
   "cell_type": "code",
   "execution_count": 1,
   "id": "1cf9a1d6",
   "metadata": {},
   "outputs": [],
   "source": [
    "import pandas as pd\n",
    "from scipy import stats"
   ]
  },
  {
   "cell_type": "code",
   "execution_count": 10,
   "id": "fd82cf26",
   "metadata": {},
   "outputs": [
    {
     "name": "stdout",
     "output_type": "stream",
     "text": [
      "   CustomerID   Genre  Age  Annual Income (k$)  Spending Score (1-100)\n",
      "0           1    Male   19                  15                      39\n",
      "1           2    Male   21                  15                      81\n",
      "2           3  Female   20                  16                       6\n",
      "3           4  Female   23                  16                      77\n",
      "4           5  Female   31                  17                      40\n"
     ]
    }
   ],
   "source": [
    "data = pd.read_csv('Mall_Customers.csv')\n",
    "print(data.head())"
   ]
  },
  {
   "cell_type": "code",
   "execution_count": 9,
   "id": "9eefb03f",
   "metadata": {},
   "outputs": [
    {
     "name": "stdout",
     "output_type": "stream",
     "text": [
      " T statistics :  -0.5435095201454507\n",
      "P value :  0.5888620609764226\n",
      "Critical value :  2.0017174830120923\n",
      "Failed to reject H0\n"
     ]
    }
   ],
   "source": [
    "# Separate data by genre\n",
    "male_spending = data[data['Genre'] == 'Male']['Spending Score (1-100)']\n",
    "female_spending = data[data['Genre'] == 'Female']['Spending Score (1-100)']\n",
    "\n",
    "male_spending = male_spending.sample(n=30, replace=False)\n",
    "female_spending = female_spending.sample(n=30, replace=False)\n",
    "\n",
    "# Perform two-sample t-test\n",
    "t_statistic, p_value = stats.ttest_ind(male_spending, female_spending)\n",
    "\n",
    "\n",
    "# Degree of freedom\n",
    "n_male = len(male_spending)\n",
    "n_female = len(female_spending)\n",
    "degrees_of_freedom = n_male + n_female -2\n",
    "alpha = 0.025\n",
    "\n",
    "critical_value = stats.t.ppf(1 - alpha, degrees_of_freedom)\n",
    "\n",
    "print(\" T statistics : \", t_statistic)\n",
    "print(\"P value : \",p_value)\n",
    "print(\"Critical value : \",critical_value)\n",
    "\n",
    "if p_value < alpha:\n",
    "    print(\"Reject H0\")\n",
    "else:\n",
    "    print(\"Failed to reject H0\")    "
   ]
  }
 ],
 "metadata": {
  "kernelspec": {
   "display_name": "base",
   "language": "python",
   "name": "python3"
  },
  "language_info": {
   "codemirror_mode": {
    "name": "ipython",
    "version": 3
   },
   "file_extension": ".py",
   "mimetype": "text/x-python",
   "name": "python",
   "nbconvert_exporter": "python",
   "pygments_lexer": "ipython3",
   "version": "3.8.5"
  }
 },
 "nbformat": 4,
 "nbformat_minor": 5
}
