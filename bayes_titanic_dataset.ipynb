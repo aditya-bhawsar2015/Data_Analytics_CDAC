{
 "cells": [
  {
   "cell_type": "code",
   "execution_count": null,
   "id": "8a2b4881",
   "metadata": {},
   "outputs": [
    {
     "name": "stdout",
     "output_type": "stream",
     "text": [
      "Probability of survival given that passenger is female : 1.0\n",
      "Total Male Survived = 2.750000000000032 out of 418 people\n",
      "0.9934210526315789\n"
     ]
    }
   ],
   "source": [
    "import pandas as pd\n",
    "\n",
    "df = pd.read_csv(r'D:\\workspace\\DataAnalytics\\Day3_analysis_msd\\titanic-tested.csv')\n",
    "\n",
    "total_passengers = len(df)\n",
    "\n",
    "survived_count = len(df[df['Survived'] == 1])\n",
    "\n",
    "female_count = len(df[df['Gender'] == 'female'])\n",
    "\n",
    "female_survived_count = len(df[(df['Survived'] == 1) & (df['Gender'] == 'female')])\n",
    "\n",
    "# calculate probabilities\n",
    "P_survived = survived_count / total_passengers          # P(Survived)\n",
    "P_female = female_count / total_passengers              # P(Female)\n",
    "P_female_given_survived = female_survived_count / survived_count    # P(Female | Survived)\n",
    "\n",
    "# Apply Bayes Theorem\n",
    "\n",
    "P_survived_given_female = (P_female_given_survived * P_survived) / P_female\n",
    "print(f\"Probability of survival given that passenger is female : {P_survived_given_female}\" )\n",
    "\n",
    "p_female_given_survived = (P_survived_given_female * P_female)/P_survived\n",
    "p_male_given_survived = 1-p_female_given_survived\n",
    "\n",
    "print(f\"Total Male Survived = {p_male_given_survived * len(df)} out of {len(df)} peoples\")\n",
    "print(p_female_given_survived)\n",
    "\n"
   ]
  }
 ],
 "metadata": {
  "kernelspec": {
   "display_name": "base",
   "language": "python",
   "name": "python3"
  },
  "language_info": {
   "codemirror_mode": {
    "name": "ipython",
    "version": 3
   },
   "file_extension": ".py",
   "mimetype": "text/x-python",
   "name": "python",
   "nbconvert_exporter": "python",
   "pygments_lexer": "ipython3",
   "version": "3.8.5"
  }
 },
 "nbformat": 4,
 "nbformat_minor": 5
}
