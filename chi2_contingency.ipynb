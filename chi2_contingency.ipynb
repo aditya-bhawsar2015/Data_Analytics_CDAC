{
 "cells": [
  {
   "cell_type": "code",
   "execution_count": 1,
   "id": "7b69f601",
   "metadata": {},
   "outputs": [],
   "source": [
    "from scipy.stats import chi2_contingency\n",
    "import pandas as pd"
   ]
  },
  {
   "cell_type": "code",
   "execution_count": 5,
   "id": "2f59f596",
   "metadata": {},
   "outputs": [
    {
     "name": "stderr",
     "output_type": "stream",
     "text": [
      "c:\\ProgramData\\Anaconda3\\lib\\site-packages\\IPython\\core\\interactiveshell.py:3146: DtypeWarning: Columns (23) have mixed types.Specify dtype option on import or set low_memory=False.\n",
      "  has_raised = await self.run_ast_nodes(code_ast.body, cell_name,\n"
     ]
    },
    {
     "name": "stdout",
     "output_type": "stream",
     "text": [
      "Contingency Table:  Fulfilment  Amazon  Merchant\n",
      "Status                      \n",
      "Cancelled    11471      6861\n",
      "Pending        415       243\n",
      "Chi-squared test statistic:  0.04729799287402296\n",
      "p-value:  0.8278334990054204\n",
      "Degrees of freedom:  1\n",
      "Fail to reject the null hypothesis: There is no significant association between Order Status and Fulfilment.\n"
     ]
    }
   ],
   "source": [
    "df = pd.read_csv('Amazon Sale Report.csv')\n",
    "\n",
    "cancelled_pending_orders = df[df['Status'].isin(['Cancelled', 'Pending'])]\n",
    "\n",
    "# Create a contingency table for the two categorical variables\n",
    "contingency_table = pd.crosstab(cancelled_pending_orders['Status'], cancelled_pending_orders['Fulfilment'])\n",
    "print(\"Contingency Table: \",contingency_table)\n",
    "\n",
    "chi2 , p , dof , ex = chi2_contingency(contingency_table)\n",
    "\n",
    "print(\"Chi-squared test statistic: \", chi2)\n",
    "print(\"p-value: \", p)\n",
    "print(\"Degrees of freedom: \", dof)\n",
    "\n",
    "if p < 0.05:\n",
    "    print(\"Reject the null hypothesis: There is a significant association between Order Status and Fulfilment.\")\n",
    "else:  \n",
    "    print(\"Fail to reject the null hypothesis: There is no significant association between Order Status and Fulfilment.\")       "
   ]
  }
 ],
 "metadata": {
  "kernelspec": {
   "display_name": "base",
   "language": "python",
   "name": "python3"
  },
  "language_info": {
   "codemirror_mode": {
    "name": "ipython",
    "version": 3
   },
   "file_extension": ".py",
   "mimetype": "text/x-python",
   "name": "python",
   "nbconvert_exporter": "python",
   "pygments_lexer": "ipython3",
   "version": "3.8.5"
  }
 },
 "nbformat": 4,
 "nbformat_minor": 5
}
