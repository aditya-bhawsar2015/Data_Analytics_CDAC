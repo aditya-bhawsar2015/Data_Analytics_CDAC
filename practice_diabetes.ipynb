{
 "cells": [
  {
   "cell_type": "code",
   "execution_count": 14,
   "id": "81eae78d",
   "metadata": {},
   "outputs": [
    {
     "name": "stdout",
     "output_type": "stream",
     "text": [
      "0.5286458333333334\n",
      "0.6536458333333334\n"
     ]
    }
   ],
   "source": [
    "import pandas as pd\n",
    "\n",
    "df = pd.read_csv('diabetes.csv')\n",
    "\n",
    "\n",
    "\n",
    "prob_bmi_25 = len(df[df['BMI'] >= 25])/len(df)\n",
    "\n",
    "\n",
    "\n",
    "\n",
    "prob_glucose_110 = len(df[df['Glucose']>=100])/len(df)\n",
    "\n",
    "\n",
    "\n",
    "bmi_25 = df[df['BMI']>25]\n",
    "prob_glucose_bmi = len(bmi_25[bmi_25['Glucose']>=110])/len(df)\n",
    "\n",
    "print(prob_glucose_bmi)\n",
    "\n",
    "glucose_110 = df[df['Glucose']>=100]\n",
    "\n",
    "prob_bmi_glucose = len(glucose_110[glucose_110['BMI']>=25])/len(df)\n",
    "\n",
    "print(prob_bmi_glucose)\n",
    "\n"
   ]
  },
  {
   "cell_type": "code",
   "execution_count": null,
   "id": "cffc290b",
   "metadata": {},
   "outputs": [],
   "source": []
  }
 ],
 "metadata": {
  "kernelspec": {
   "display_name": "base",
   "language": "python",
   "name": "python3"
  },
  "language_info": {
   "codemirror_mode": {
    "name": "ipython",
    "version": 3
   },
   "file_extension": ".py",
   "mimetype": "text/x-python",
   "name": "python",
   "nbconvert_exporter": "python",
   "pygments_lexer": "ipython3",
   "version": "3.8.5"
  }
 },
 "nbformat": 4,
 "nbformat_minor": 5
}
