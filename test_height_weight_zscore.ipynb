import unittest
import pandas as pd
from scipy.stats import zscore

# Python

class TestHeightWeightZScore(unittest.TestCase):
    def setUp(self):
        # Sample data similar to the original dataset
        data = {
            'Gender': ['Male', 'Male', 'Female', 'Female'],
            'Height': [70, 68, 65, 64],
            'Weight': [150, 160, 120, 110]
        }
        self.df = pd.DataFrame(data)

    def test_zscore_calculation(self):
        # Filter males
        males = self.df[self.df['Gender'] == 'Male']
        
        # Calculate z-scores
        males['maleheight_zscore'] = zscore(males['Height'])
        
        # Assert z-score values
        expected_zscores = zscore([70, 68])  # Manually calculate expected z-scores
        self.assertAlmostEqual(males['maleheight_zscore'].iloc[0], expected_zscores[0], places=5)
        self.assertAlmostEqual(males['maleheight_zscore'].iloc[1], expected_zscores[1], places=5)

    def test_no_settingwithcopy_warning(self):
        # Filter males
        males = self.df[self.df['Gender'] == 'Male']
        
        # Use .loc to avoid SettingWithCopyWarning
        self.df.loc[self.df['Gender'] == 'Male', 'maleheight_zscore'] = zscore(males['Height'])
        
        # Assert the column is added without warnings
        self.assertIn('maleheight_zscore', self.df.columns)

if __name__ == '__main__':
    unittest.main(argv=[''], exit=False)