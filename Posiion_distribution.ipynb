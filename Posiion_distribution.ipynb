{
 "cells": [
  {
   "cell_type": "code",
   "execution_count": 1,
   "id": "f5c13269",
   "metadata": {},
   "outputs": [
    {
     "name": "stdout",
     "output_type": "stream",
     "text": [
      "The probability of 4 defective products in a day : 0.057\n"
     ]
    }
   ],
   "source": [
    "# Poission Distribution\n",
    "# Manually\n",
    "\n",
    "import math\n",
    "Lambda= 8\n",
    "k = 4\n",
    "p_4 = (math.e**-Lambda)*(Lambda**k)/math.factorial(k)\n",
    "print(\"The probability of 4 defective products in a day : {:.3f}\".format(p_4))\n"
   ]
  },
  {
   "cell_type": "code",
   "execution_count": 6,
   "id": "ea490a4e",
   "metadata": {},
   "outputs": [
    {
     "data": {
      "text/plain": [
       "0.057252288495362"
      ]
     },
     "execution_count": 6,
     "metadata": {},
     "output_type": "execute_result"
    }
   ],
   "source": [
    "# Using inbuilt function\n",
    "from scipy.stats import poisson\n",
    "mu = 8\n",
    "x = 4\n",
    "poisson.pmf(x, mu)"
   ]
  },
  {
   "cell_type": "code",
   "execution_count": null,
   "id": "39dd8d3b",
   "metadata": {},
   "outputs": [
    {
     "name": "stdout",
     "output_type": "stream",
     "text": [
      "12.511%\n"
     ]
    }
   ],
   "source": [
    "# Ex 2\n",
    "from scipy.stats import poisson\n",
    "mu = 10\n",
    "x = 10\n",
    "poisson.pmf(x, mu)\n",
    "\n",
    "\n",
    "Lambda= 10\n",
    "k = 10\n",
    "p_4 = (math.e**-Lambda)*(Lambda**k)/math.factorial(k)\n",
    "print(\"{:.3f}%\".format(p_4*100))"
   ]
  },
  {
   "cell_type": "code",
   "execution_count": 38,
   "id": "275671b7",
   "metadata": {},
   "outputs": [],
   "source": [
    "# LIC salesman sells on an average 3 lic policies per week. use poisson's law to calculate the probability\n",
    "# a. In a given week, he will sell some policies\n",
    "# b. In given week he will sell 2 or more policies but not more than 5 policies\n",
    "# c. Assuming that per week there are 5 working days. What's probability that on a given day he will sell 1 policy?\n",
    "# d. In next week ,he will sell exactly 3 policies"
   ]
  },
  {
   "cell_type": "code",
   "execution_count": 32,
   "id": "04a005b4",
   "metadata": {},
   "outputs": [
    {
     "data": {
      "text/plain": [
       "95.0212931632136"
      ]
     },
     "execution_count": 32,
     "metadata": {},
     "output_type": "execute_result"
    }
   ],
   "source": [
    "# a\n",
    "mu = 3\n",
    "x = 0\n",
    "(1-poisson.pmf(x,mu))*100"
   ]
  },
  {
   "cell_type": "code",
   "execution_count": 36,
   "id": "aa507d5f",
   "metadata": {},
   "outputs": [
    {
     "data": {
      "text/plain": [
       "0.716933784497241"
      ]
     },
     "execution_count": 36,
     "metadata": {},
     "output_type": "execute_result"
    }
   ],
   "source": [
    "# b.\n",
    "x = 0\n",
    "(poisson.pmf(4,mu)+poisson.pmf(2,mu)+poisson.pmf(3,mu)+poisson.pmf(5,mu))*100\n",
    "sum(poisson.pmf(k=[2,3,4,5],mu=mu))"
   ]
  },
  {
   "cell_type": "code",
   "execution_count": 37,
   "id": "5a39aa0e",
   "metadata": {},
   "outputs": [
    {
     "data": {
      "text/plain": [
       "32.92869816564159"
      ]
     },
     "execution_count": 37,
     "metadata": {},
     "output_type": "execute_result"
    }
   ],
   "source": [
    "# c\n",
    "# (poisson.pmf(1,mu)/5)*100\n",
    "(poisson.pmf(1,mu/5))*100"
   ]
  },
  {
   "cell_type": "code",
   "execution_count": 35,
   "id": "aed1862f",
   "metadata": {},
   "outputs": [
    {
     "data": {
      "text/plain": [
       "22.404180765538776"
      ]
     },
     "execution_count": 35,
     "metadata": {},
     "output_type": "execute_result"
    }
   ],
   "source": [
    "# d \n",
    "(poisson.pmf(3,mu))*100"
   ]
  }
 ],
 "metadata": {
  "kernelspec": {
   "display_name": "base",
   "language": "python",
   "name": "python3"
  },
  "language_info": {
   "codemirror_mode": {
    "name": "ipython",
    "version": 3
   },
   "file_extension": ".py",
   "mimetype": "text/x-python",
   "name": "python",
   "nbconvert_exporter": "python",
   "pygments_lexer": "ipython3",
   "version": "3.8.5"
  }
 },
 "nbformat": 4,
 "nbformat_minor": 5
}
