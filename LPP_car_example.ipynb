{
 "cells": [
  {
   "cell_type": "code",
   "execution_count": 1,
   "id": "9f576252",
   "metadata": {},
   "outputs": [],
   "source": [
    "# Use PuLP library for linear programming problem \n",
    "from pulp import *"
   ]
  },
  {
   "cell_type": "code",
   "execution_count": 3,
   "id": "2d9a3168",
   "metadata": {},
   "outputs": [
    {
     "name": "stdout",
     "output_type": "stream",
     "text": [
      "CarA = 2.0\n",
      "CarB = 6.0\n"
     ]
    }
   ],
   "source": [
    "# create the problem variable to contain the problem data\n",
    "model = LpProblem(\"CarManufacturingCompany\", LpMaximize)\n",
    "\n",
    "# Create 2 variables for CarA and CarB\n",
    "# Parameters :  Name, Lower Limit, Upper Limit, Data type\n",
    "carA = LpVariable(\"CarA\", 0, None, LpInteger)       # CarA production\n",
    "carB = LpVariable(\"CarB\", 0, None, LpInteger)       # CarB production\n",
    "\n",
    "# Create maximize objective function (profit)\n",
    "model += 30000 * carA + 45000 * carB, \"Profit\"\n",
    "\n",
    "# Create three constraints \n",
    "model += 3*carA + 4*carB<=30, \"Material Constraint 1\"       # Constraint 1\n",
    "model += 5*carA + 6*carB<=60, \"Material Constraint 2\"       # Constraint 2\n",
    "model += 1.5*carA + 3*carB<=21, \"Labor Constraint \"       # Constraint 3\n",
    "model += carA >=2, \"Minimum A Production\"\n",
    "\n",
    "# THe problem is solved using PuLP's choice of solver\n",
    "model.solve()\n",
    "\n",
    "# Each of the variables is printed with it's resolved optimum value\n",
    "for v in model.variables():\n",
    "    print(v.name, \"=\", v.varValue)"
   ]
  },
  {
   "cell_type": "code",
   "execution_count": null,
   "id": "961e4a8b",
   "metadata": {},
   "outputs": [],
   "source": []
  }
 ],
 "metadata": {
  "kernelspec": {
   "display_name": "base",
   "language": "python",
   "name": "python3"
  },
  "language_info": {
   "codemirror_mode": {
    "name": "ipython",
    "version": 3
   },
   "file_extension": ".py",
   "mimetype": "text/x-python",
   "name": "python",
   "nbconvert_exporter": "python",
   "pygments_lexer": "ipython3",
   "version": "3.8.5"
  }
 },
 "nbformat": 4,
 "nbformat_minor": 5
}
