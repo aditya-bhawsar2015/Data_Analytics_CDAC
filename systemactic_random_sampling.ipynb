{
 "cells": [
  {
   "cell_type": "code",
   "execution_count": 1,
   "id": "c7219e86",
   "metadata": {},
   "outputs": [
    {
     "name": "stdout",
     "output_type": "stream",
     "text": [
      "Number of rows in the original dataframe: 79638\n",
      "Number of rows in the sample dataframe: 11377\n"
     ]
    }
   ],
   "source": [
    "# Systematic Random Sampling\n",
    "import pandas as pd\n",
    "\n",
    "df_2015 = pd.read_csv('D:\\workspace\\DataAnalytics\\Day5\\marathon_results_2015.csv')\n",
    "df_2016 = pd.read_csv('D:\\workspace\\DataAnalytics\\Day5\\marathon_results_2016.csv')\n",
    "df_2017 = pd.read_csv('D:\\workspace\\DataAnalytics\\Day5\\marathon_results_2017.csv')\n",
    "\n",
    "df = pd.concat([df_2015, df_2016, df_2017])\n",
    "original_row_count = len(df)\n",
    "\n",
    "# Perform systematic sampling (picking every 7th record)\n",
    "# ::7 means from the start to the end , pick every 7th record\n",
    "# , : means pick up all the columns\n",
    "\n",
    "sample_df = df.iloc[::7, :]\n",
    "\n",
    "sample_row_count = len(sample_df)\n",
    "print(f\"Number of rows in the original dataframe: {original_row_count}\")\n",
    "print(f\"Number of rows in the sample dataframe: {sample_row_count}\")"
   ]
  }
 ],
 "metadata": {
  "kernelspec": {
   "display_name": "base",
   "language": "python",
   "name": "python3"
  },
  "language_info": {
   "codemirror_mode": {
    "name": "ipython",
    "version": 3
   },
   "file_extension": ".py",
   "mimetype": "text/x-python",
   "name": "python",
   "nbconvert_exporter": "python",
   "pygments_lexer": "ipython3",
   "version": "3.8.5"
  }
 },
 "nbformat": 4,
 "nbformat_minor": 5
}
