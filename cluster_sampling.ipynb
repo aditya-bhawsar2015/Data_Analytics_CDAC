{
 "cells": [
  {
   "cell_type": "code",
   "execution_count": 11,
   "id": "7ed4861e",
   "metadata": {},
   "outputs": [
    {
     "name": "stdout",
     "output_type": "stream",
     "text": [
      "['ETH' 'KEN' 'USA' 'UKR' 'RSA' 'ITA' 'RUS' 'JPN' 'CAN' 'BEL' 'NZL' 'BLR'\n",
      " 'AUS' 'GBR' 'CRO' 'ECU' 'GER' 'ESP' 'SWE' 'BRA' 'HKG' 'MEX' 'DEN' 'MAS'\n",
      " 'IRL' 'ISL' 'CHI' 'GUA' 'FIN' 'SVK' 'COL' 'SUI' 'CHN' 'AUT' 'NED' 'FRA'\n",
      " 'CRC' 'CYP' 'POL' 'NOR' 'KOR' 'POR' 'TPE' 'PER' 'SIN' 'PAN' 'VEN' 'LUX'\n",
      " 'CZE' 'VIE' 'MAR' 'BER' 'ROU' 'IND' 'LIE' 'ARG' 'ESA' 'DOM' 'ISR' 'GRE'\n",
      " 'SLO' 'LTU' 'URU' 'CAY' 'EST' 'JAM' 'UAE' 'VGB' 'TUR' 'LAT' 'AND' 'OMA'\n",
      " 'BAH' 'TRI' 'INA' 'AHO' 'PHI' 'UGA' 'QAT' 'ZIM' 'TWN' 'HON' 'FLK' 'HUN'\n",
      " 'JOR' 'ALB' 'SRB' 'PAK' 'BRN' 'BDI' 'EGY' 'THA' 'MLT' 'KSA' 'SMR' 'BUL'\n",
      " 'ALG' 'NCA' 'BAR' 'GRN' 'PAR' 'TCA' 'KUW' 'MGL' 'NGR']\n",
      "original row count = 79638\n",
      "Number of unique countries in the sample dataframe: 52\n",
      "Selected Countries : ['COL' 'JAM' 'EST' 'IND' 'PAN' 'SMR' 'NGR' 'LUX' 'NZL' 'ETH' 'SWE' 'SUI'\n",
      " 'BDI' 'ALG' 'UGA' 'RSA' 'TWN' 'AUT' 'AUS' 'CHI' 'GRN' 'ARG' 'DEN' 'PHI'\n",
      " 'SIN' 'BAH' 'ECU' 'TPE' 'KOR' 'BEL' 'ALB' 'BLR' 'MGL' 'QAT' 'FIN' 'ZIM'\n",
      " 'ITA' 'URU' 'ESA' 'NOR' 'FRA' 'GER' 'UAE' 'NED' 'JPN' 'PER' 'TUR' 'LAT'\n",
      " 'GUA' 'BRA' 'JOR' 'ISL']\n"
     ]
    }
   ],
   "source": [
    "import pandas as pd\n",
    "import numpy as np\n",
    "\n",
    "df_2015 = pd.read_csv('D:\\workspace\\DataAnalytics\\Day5\\marathon_results_2015.csv')\n",
    "df_2016 = pd.read_csv('D:\\workspace\\DataAnalytics\\Day5\\marathon_results_2016.csv')\n",
    "df_2017 = pd.read_csv('D:\\workspace\\DataAnalytics\\Day5\\marathon_results_2017.csv')\n",
    "\n",
    "df = pd.concat([df_2015, df_2016, df_2017])\n",
    "original_row_count = len(df)\n",
    "\n",
    "# Find the unique countries the atheletes are from \n",
    "unique_countries = df['Country'].unique()\n",
    "print(unique_countries)\n",
    "num_countries = len(unique_countries)\n",
    "\n",
    "# Randomly select half of the countries\n",
    "np.random.seed(42)\n",
    "\n",
    "#choice() function in the numpy generates a random sample from the array\n",
    "selected_countries = np.random.choice(unique_countries, size = num_countries // 2, replace = False)     # false means dont allow th same country twice or more\n",
    "\n",
    "# create a new dataframe containing all records of the selected countries \n",
    "sample_df = df[df['Country'].isin(selected_countries)]\n",
    "\n",
    "# get total number of rows in sample dataframe\n",
    "sample_row_count = len(sample_df)\n",
    "\n",
    "print(f\"original row count = {original_row_count}\")\n",
    "# print(f'Sample Row Count = {sample_df}')\n",
    "\n",
    "# Print the no of unique countires in the sample dataframe\n",
    "print(f\"Number of unique countries in the sample dataframe: {len(sample_df['Country'].unique())}\")\n",
    "print(f\"Selected Countries : {selected_countries}\")"
   ]
  }
 ],
 "metadata": {
  "kernelspec": {
   "display_name": "base",
   "language": "python",
   "name": "python3"
  },
  "language_info": {
   "codemirror_mode": {
    "name": "ipython",
    "version": 3
   },
   "file_extension": ".py",
   "mimetype": "text/x-python",
   "name": "python",
   "nbconvert_exporter": "python",
   "pygments_lexer": "ipython3",
   "version": "3.8.5"
  }
 },
 "nbformat": 4,
 "nbformat_minor": 5
}
