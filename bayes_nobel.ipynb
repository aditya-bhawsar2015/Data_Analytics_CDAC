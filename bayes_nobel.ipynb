{
 "cells": [
  {
   "cell_type": "code",
   "execution_count": 27,
   "id": "e3dc25ec",
   "metadata": {},
   "outputs": [
    {
     "name": "stdout",
     "output_type": "stream",
     "text": [
      "950\n",
      "213\n",
      "54\n",
      "3\n",
      "0.22421052631578947\n",
      "0.056842105263157895\n",
      "0.014084507042253521\n",
      "0.05555555555555555\n",
      "116\n",
      "274\n",
      "3\n",
      "0.12210526315789473\n",
      "0.28842105263157897\n",
      "0.07758620689655173\n",
      "0.032846715328467155\n"
     ]
    }
   ],
   "source": [
    "import pandas as pd\n",
    "\n",
    "df = pd.read_csv('nobel.csv')\n",
    "\n",
    "total_count = len(df)\n",
    "print(total_count)\n",
    "\n",
    "physics_count = len(df[df['category'] == 'Physics'])\n",
    "print(physics_count)\n",
    "\n",
    "female_count = len(df[df['gender'] == 'female'])\n",
    "print(female_count)\n",
    "\n",
    "female_and_physics_count = len(df[(df['category'] == 'Physics') & (df['gender'] == 'female')])\n",
    "print(female_and_physics_count)\n",
    "\n",
    "P_physics = physics_count / total_count\n",
    "print(P_physics)\n",
    "\n",
    "P_female = female_count / total_count\n",
    "print(P_female)\n",
    "\n",
    "P_female_given_physics = female_and_physics_count / physics_count\n",
    "print(P_female_given_physics)\n",
    "\n",
    "P_physics_given_female = (P_female_given_physics * P_physics) / P_female\n",
    "print(P_physics_given_female)\n",
    "\n",
    "# P_physics_given_female2 = (female_and_physics_count) / female_count           these values are same bcoz the data is very less\n",
    "# print(P_physics_given_female2)                                                   dont use this approach\n",
    "\n",
    "\n",
    "# task 2 \n",
    "\n",
    "\n",
    "literature_count = len(df[df['category'] == 'Literature'])\n",
    "print(literature_count)\n",
    "\n",
    "country_count = len(df[df['birth_country'] == 'USA'])\n",
    "print(country_count)\n",
    "\n",
    "literature_and_country_count = len(df[(df['category'] == 'Literature') & (df['birth_country'] == 'USA')])\n",
    "print(female_and_physics_count)\n",
    "\n",
    "P_literature = literature_count / total_count\n",
    "print(P_literature)\n",
    "\n",
    "P_country = country_count / total_count\n",
    "print(P_country)\n",
    "\n",
    "P_USA_given_literature = literature_and_country_count / literature_count \n",
    "print(P_USA_given_literature)\n",
    "\n",
    "P_literature_given_USA = (P_USA_given_literature * P_literature) / P_country\n",
    "print(P_literature_given_USA)\n",
    "\n"
   ]
  },
  {
   "cell_type": "code",
   "execution_count": null,
   "id": "7f01c16d",
   "metadata": {},
   "outputs": [],
   "source": []
  }
 ],
 "metadata": {
  "kernelspec": {
   "display_name": "base",
   "language": "python",
   "name": "python3"
  },
  "language_info": {
   "codemirror_mode": {
    "name": "ipython",
    "version": 3
   },
   "file_extension": ".py",
   "mimetype": "text/x-python",
   "name": "python",
   "nbconvert_exporter": "python",
   "pygments_lexer": "ipython3",
   "version": "3.8.5"
  }
 },
 "nbformat": 4,
 "nbformat_minor": 5
}
