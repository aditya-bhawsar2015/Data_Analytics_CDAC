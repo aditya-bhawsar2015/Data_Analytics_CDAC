{
 "cells": [
  {
   "cell_type": "code",
   "execution_count": 4,
   "id": "df3c0c81",
   "metadata": {},
   "outputs": [],
   "source": [
    "from pandas import read_csv, crosstab\n",
    "from scipy.stats import chi2_contingency\n",
    "import pandas as pd"
   ]
  },
  {
   "cell_type": "code",
   "execution_count": null,
   "id": "62ff81fb",
   "metadata": {},
   "outputs": [
    {
     "name": "stdout",
     "output_type": "stream",
     "text": [
      "   ID  Gender  Age Customer Type Type of Travel     Class  Flight Distance  \\\n",
      "0   1    Male   48    First-time       Business  Business              821   \n",
      "1   2  Female   35     Returning       Business  Business              821   \n",
      "2   3    Male   41     Returning       Business  Business              853   \n",
      "3   4    Male   50     Returning       Business  Business             1905   \n",
      "4   5  Female   49     Returning       Business  Business             3470   \n",
      "\n",
      "   Departure Delay  Arrival Delay  Departure and Arrival Time Convenience  \\\n",
      "0                2            5.0                                       3   \n",
      "1               26           39.0                                       2   \n",
      "2                0            0.0                                       4   \n",
      "3                0            0.0                                       2   \n",
      "4                0            1.0                                       3   \n",
      "\n",
      "   ...  On-board Service  Seat Comfort  Leg Room Service  Cleanliness  \\\n",
      "0  ...                 3             5                 2            5   \n",
      "1  ...                 5             4                 5            5   \n",
      "2  ...                 3             5                 3            5   \n",
      "3  ...                 5             5                 5            4   \n",
      "4  ...                 3             4                 4            5   \n",
      "\n",
      "   Food and Drink  In-flight Service  In-flight Wifi Service  \\\n",
      "0               5                  5                       3   \n",
      "1               3                  5                       2   \n",
      "2               5                  3                       4   \n",
      "3               4                  5                       2   \n",
      "4               4                  3                       3   \n",
      "\n",
      "   In-flight Entertainment  Baggage Handling             Satisfaction  \n",
      "0                        5                 5  Neutral or Dissatisfied  \n",
      "1                        5                 5                Satisfied  \n",
      "2                        3                 3                Satisfied  \n",
      "3                        5                 5                Satisfied  \n",
      "4                        3                 3                Satisfied  \n",
      "\n",
      "[5 rows x 24 columns]\n"
     ]
    }
   ],
   "source": [
    "# read the CSV data\n",
    "df =                                                                                                                                                                                                                                                                                                                                                                                                                                                                                                                                                                                                                                                                                                                                                                                                                                                                                                                                                                          read_csv('airline_passenger_satisfaction.csv')\n",
    "\n",
    "print(df.head(1))"
   ]
  },
  {
   "cell_type": "code",
   "execution_count": 6,
   "id": "bc8e286c",
   "metadata": {},
   "outputs": [],
   "source": [
    "# male_df = df[df['Gender'] == 'Male']  #Filter by gender\n",
    "\n",
    "# category1 = 'Class'\n",
    "\n",
    "# category2 = 'On-board Service'\n",
    "\n",
    "# # Create a contingency table for the two categories\n",
    "# crosstab = crosstab(male_df[category1] , male_df[category2])\n",
    "\n",
    "# chi2 , pval, degree_of_freedom, expected_counts = chi2_contingency(crosstab)\n",
    "\n",
    "# print(f\"\\n Category 1: {category1}, Category 2: {category2} (Male Passengers)\")\n",
    "# print(crosstab)\n",
    "# print(f\"Chi-square :{chi2: .2f}, p_value :{pval: .4f}, Degree of freedom :{degree_of_freedom}\")\n",
    "\n",
    "# if pval < 0.05:\n",
    "#     print(\"Reject Null Hypothesis: There is a significant association between Class and On-board Service\")\n",
    "# else:\n",
    "#     print(\"Fail to Reject Null Hypothesis: There is no significant association between Class and On-board Service\")    "
   ]
  },
  {
   "cell_type": "code",
   "execution_count": 7,
   "id": "588fd115",
   "metadata": {},
   "outputs": [
    {
     "name": "stdout",
     "output_type": "stream",
     "text": [
      "\n",
      " Category 1: Class, Category 2: On-board Service (Female Passengers)\n",
      "On-board Service  0     1     2     3      4     5\n",
      "Class                                             \n",
      "Business          3  2065  3425  5926  10738  9106\n",
      "Economy           0  4659  5366  7103   7387  5155\n",
      "Economy Plus      0   799   959  1166   1224   818\n",
      "Chi-square : 3510.80, p_value : 0.0000, Degree of freedom :10\n",
      "Reject Null Hypothesis: There is a significant association between Class and On-board Service\n"
     ]
    }
   ],
   "source": [
    "df = read_csv('airline_passenger_satisfaction.csv')\n",
    "\n",
    "female_df = df[df['Gender'] == 'Female']  #Filter by gender\n",
    "\n",
    "category1 = 'Class'\n",
    "category2 = 'On-board Service'\n",
    "\n",
    "# Create a contingency table for the two categories\n",
    "crosstab = crosstab(female_df[category1] , female_df[category2])\n",
    "\n",
    "chi2 , pval, degree_of_freedom, expected_counts = chi2_contingency(crosstab)\n",
    "\n",
    "print(f\"\\n Category 1: {category1}, Category 2: {category2} (Female Passengers)\")\n",
    "print(crosstab)\n",
    "print(f\"Chi-square :{chi2: .2f}, p_value :{pval: .4f}, Degree of freedom :{degree_of_freedom}\")\n",
    "\n",
    "if pval < 0.05:\n",
    "    print(\"Reject Null Hypothesis: There is a significant association between Class and On-board Service\")\n",
    "else:\n",
    "    print(\"Fail to Reject Null Hypothesis: There is no significant association between Class and On-board Service\")    "
   ]
  }
 ],
 "metadata": {
  "kernelspec": {
   "display_name": "base",
   "language": "python",
   "name": "python3"
  },
  "language_info": {
   "codemirror_mode": {
    "name": "ipython",
    "version": 3
   },
   "file_extension": ".py",
   "mimetype": "text/x-python",
   "name": "python",
   "nbconvert_exporter": "python",
   "pygments_lexer": "ipython3",
   "version": "3.8.5"
  }
 },
 "nbformat": 4,
 "nbformat_minor": 5
}
