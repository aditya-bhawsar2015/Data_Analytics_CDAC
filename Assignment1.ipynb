{
 "cells": [
  {
   "cell_type": "code",
   "execution_count": null,
   "id": "5422c8f5",
   "metadata": {},
   "outputs": [],
   "source": [
    "# Install pandas if not already installed\n",
    "\n",
    "import pandas as pd\n",
    "\n",
    "team1_df = pd.DataFrame({'Team':['RCB', 'CSK', 'MI', 'SRH', 'LSG'], 'Points' : [1,10,2,3,4]})\n",
    "team2_df = pd.DataFrame({'Team':['GT', 'PBKS', \"DC\", 'RR', 'KKR'], 'Points' : [5,6,7,8,9]})\n",
    "\n",
    "# Correcting the operation to concatenate the dataframes instead of adding them\n",
    "team_df = pd.concat([team1_df, team2_df], ignore_index=True)\n",
    "\n",
    "print(team_df)\n",
    "print()\n",
    "\n",
    "print(team_df['Points'].sort_values())\n",
    "\n"
   ]
  },
  {
   "cell_type": "code",
   "execution_count": null,
   "id": "6ba9db9a",
   "metadata": {},
   "outputs": [],
   "source": [
    "n = int(input(\"Enter a number: \"))\n",
    "factorial = 1\n",
    "for i in range(2, n + 1):\n",
    "    factorial *= i\n",
    "print(factorial)"
   ]
  }
 ],
 "metadata": {
  "kernelspec": {
   "display_name": ".venv",
   "language": "python",
   "name": "python3"
  },
  "language_info": {
   "codemirror_mode": {
    "name": "ipython",
    "version": 3
   },
   "file_extension": ".py",
   "mimetype": "text/x-python",
   "name": "python",
   "nbconvert_exporter": "python",
   "pygments_lexer": "ipython3",
   "version": "3.13.2"
  }
 },
 "nbformat": 4,
 "nbformat_minor": 5
}
