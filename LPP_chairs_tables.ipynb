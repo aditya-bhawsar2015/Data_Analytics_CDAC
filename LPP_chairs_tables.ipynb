{
 "cells": [
  {
   "cell_type": "code",
   "execution_count": 5,
   "id": "9e053e2b",
   "metadata": {},
   "outputs": [],
   "source": [
    "# Use PuLP library for linear programming problem \n",
    "from pulp import *"
   ]
  },
  {
   "cell_type": "code",
   "execution_count": null,
   "id": "a4b4624f",
   "metadata": {},
   "outputs": [],
   "source": [
    "# create the problem variable to contain the problem data\n",
    "model = LpProblem(\"FactoryProductionproblem\", LpMaximize)\n",
    "\n",
    "# Create variables for Tables and Chairs\n",
    "# Parameters :  Name, Lower Limit, Upper Limit, Data type\n",
    "chairs = LpVariable(\"Chairs\", 0, None, LpInteger)       # Number of chairs to produce\n",
    "tables = LpVariable(\"Tables\", 0, None, LpInteger)       # Number of tables to produce\n",
    "\n",
    "# Create maximize objective function (profit)\n",
    "model += 300 * chairs + 1000 * tables, \"Profit\"\n",
    "\n",
    "# Create constraints\n",
    "model += 5* chairs + 10*tables <=400,  \"Wood Constraint\"        # Wood availability constraint\n",
    "model += 2* chairs + 6* tables <= 300, \"Time Constraint\"        # Worker time constraint\n",
    "model += chairs>=2, \"Chair Constraint\"                          # additional constraint : must manufacture 2 chairs per month"
   ]
  },
  {
   "cell_type": "code",
   "execution_count": 7,
   "id": "45066a0f",
   "metadata": {},
   "outputs": [
    {
     "name": "stdout",
     "output_type": "stream",
     "text": [
      "Chairs = 2.0\n",
      "Tables = 39.0\n",
      "Total Profit :  39600.0\n"
     ]
    }
   ],
   "source": [
    "# The problem is solved using PuLP's choice of solver\n",
    "model.solve()\n",
    "\n",
    "# EAch of the variables is printed with its resolved otimum value\n",
    "for v in model.variables():\n",
    "    print(v.name, \"=\", v.varValue)\n",
    "\n",
    "# Additional Information\n",
    "print(\"Total Profit : \", value(model.objective))        # print objective function value (Total Profit)    "
   ]
  }
 ],
 "metadata": {
  "kernelspec": {
   "display_name": "base",
   "language": "python",
   "name": "python3"
  },
  "language_info": {
   "codemirror_mode": {
    "name": "ipython",
    "version": 3
   },
   "file_extension": ".py",
   "mimetype": "text/x-python",
   "name": "python",
   "nbconvert_exporter": "python",
   "pygments_lexer": "ipython3",
   "version": "3.8.5"
  }
 },
 "nbformat": 4,
 "nbformat_minor": 5
}
