{
 "cells": [
  {
   "cell_type": "code",
   "execution_count": 1,
   "id": "c126d9e4",
   "metadata": {},
   "outputs": [],
   "source": [
    "from scipy.stats import ttest_rel\n",
    "from scipy.stats import t\n",
    "import pandas as pd"
   ]
  },
  {
   "cell_type": "code",
   "execution_count": 3,
   "id": "640cc369",
   "metadata": {},
   "outputs": [
    {
     "name": "stdout",
     "output_type": "stream",
     "text": [
      "   custid  sex  AqChannel  region  Marital_status  segment  pre_usage  \\\n",
      "0      70    0          4       1               1        1         57   \n",
      "1     121    1          4       2               1        3         68   \n",
      "2      86    0          4       3               1        1         44   \n",
      "3     141    0          4       3               1        3         63   \n",
      "4     172    0          4       2               1        2         47   \n",
      "\n",
      "   Post_usage_1month  Latest_mon_usage  post_usage_2ndmonth  \n",
      "0                 52              49.2                 57.2  \n",
      "1                 59              63.6                 64.9  \n",
      "2                 33              64.8                 36.3  \n",
      "3                 44              56.4                 48.4  \n",
      "4                 52              68.4                 57.2  \n"
     ]
    }
   ],
   "source": [
    "df = pd.read_csv('cust_seg.csv')\n",
    "print(df.head())"
   ]
  },
  {
   "cell_type": "code",
   "execution_count": 4,
   "id": "e3877580",
   "metadata": {},
   "outputs": [
    {
     "name": "stdout",
     "output_type": "stream",
     "text": [
      "-0.8673065458794775\n",
      "1.971956544249395\n",
      "0.3868186820914985\n",
      "Failed to reject H0\n"
     ]
    }
   ],
   "source": [
    "usage_data = df[[\"pre_usage\", \"Post_usage_1month\"]]\n",
    "\n",
    "tstat , pval = ttest_rel(usage_data['pre_usage'], usage_data['Post_usage_1month'])\n",
    "\n",
    "df = len(usage_data['Post_usage_1month']) - 1\n",
    "\n",
    "alpha = 0.025\n",
    "critical_value = t.ppf(1 - alpha, df)\n",
    "\n",
    "print(tstat)\n",
    "print(critical_value)\n",
    "print(pval)\n",
    "\n",
    "if pval < alpha:\n",
    "    print(\"Reject H0\")\n",
    "else:\n",
    "    print(\"Failed to reject H0\")    "
   ]
  },
  {
   "cell_type": "code",
   "execution_count": null,
   "id": "55744d78",
   "metadata": {},
   "outputs": [],
   "source": []
  }
 ],
 "metadata": {
  "kernelspec": {
   "display_name": "base",
   "language": "python",
   "name": "python3"
  },
  "language_info": {
   "codemirror_mode": {
    "name": "ipython",
    "version": 3
   },
   "file_extension": ".py",
   "mimetype": "text/x-python",
   "name": "python",
   "nbconvert_exporter": "python",
   "pygments_lexer": "ipython3",
   "version": "3.8.5"
  }
 },
 "nbformat": 4,
 "nbformat_minor": 5
}
