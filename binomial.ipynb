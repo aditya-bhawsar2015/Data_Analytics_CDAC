{
 "cells": [
  {
   "cell_type": "code",
   "execution_count": 2,
   "id": "8d8417fd",
   "metadata": {},
   "outputs": [
    {
     "name": "stdout",
     "output_type": "stream",
     "text": [
      "The Probability that exactly 3 out of 5 students like Python is :  0.3323\n"
     ]
    }
   ],
   "source": [
    "from scipy.stats import binom\n",
    "\n",
    "# Given Values \n",
    "n = 5       # Total numbr of students\n",
    "k = 3       #number of students who like python \n",
    "p = 0.66    # probability that a student likes python\n",
    "\n",
    "# Calculate Binomal Probability\n",
    "probability = binom.pmf(k , n , p)\n",
    "\n",
    "print(f\"The Probability that exactly {k} out of {n} students like Python is : {probability : .4f}\")"
   ]
  },
  {
   "cell_type": "code",
   "execution_count": 3,
   "id": "15115750",
   "metadata": {},
   "outputs": [
    {
     "name": "stdout",
     "output_type": "stream",
     "text": [
      "The probability is :  0.1172\n"
     ]
    }
   ],
   "source": [
    "n = 7\n",
    "k = 2\n",
    "p = 0.55\n",
    "\n",
    "probab = binom.pmf(k, n, p)\n",
    "\n",
    "print(f\"The probability is : {probab : .4f}\" )"
   ]
  }
 ],
 "metadata": {
  "kernelspec": {
   "display_name": "base",
   "language": "python",
   "name": "python3"
  },
  "language_info": {
   "codemirror_mode": {
    "name": "ipython",
    "version": 3
   },
   "file_extension": ".py",
   "mimetype": "text/x-python",
   "name": "python",
   "nbconvert_exporter": "python",
   "pygments_lexer": "ipython3",
   "version": "3.8.5"
  }
 },
 "nbformat": 4,
 "nbformat_minor": 5
}
