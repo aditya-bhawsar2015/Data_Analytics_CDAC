{
 "cells": [
  {
   "cell_type": "code",
   "execution_count": 1,
   "id": "36c12f29",
   "metadata": {},
   "outputs": [],
   "source": [
    "import pandas as pd\n",
    "from scipy.stats import zscore"
   ]
  },
  {
   "cell_type": "code",
   "execution_count": 4,
   "id": "82d87877",
   "metadata": {},
   "outputs": [
    {
     "name": "stdout",
     "output_type": "stream",
     "text": [
      "The mean of networths :  4.86 B\n",
      "The standard deviation :  10.66 B\n",
      "\n",
      " First few rows of the updated dataframe with z- scores and percentiles : \n",
      "   Unnamed: 0  rank                       name  networth  age        country  \\\n",
      "0           0     1                 Elon Musk      219.0   50  United States   \n",
      "1           1     2                Jeff Bezos      171.0   58  United States   \n",
      "2           2     3  Bernard Arnault & family      158.0   73         France   \n",
      "3           3     4                Bill Gates      129.0   66  United States   \n",
      "4           4     5            Warren Buffett      118.0   91  United States   \n",
      "\n",
      "               source                industry  networth_zscore  \n",
      "0       Tesla, SpaceX             Automotive        100.000000  \n",
      "1              Amazon             Technology         99.961538  \n",
      "2                LVMH       Fashion & Retail         99.923077  \n",
      "3           Microsoft             Technology         99.884615  \n",
      "4  Berkshire Hathaway  Finance & Investments         99.846154  \n",
      "      Unnamed: 0  rank                     name  networth  age      country  \\\n",
      "2595        2595  2578  Jorge Gallardo Ballart        1.0   80        Spain   \n",
      "2596        2596  2578            Nari Genomal        1.0   82  Philippines   \n",
      "2597        2597  2578          Ramesh Genomal        1.0   71  Philippines   \n",
      "2598        2598  2578          Sunder Genomal        1.0   68  Philippines   \n",
      "2599        2599  2578   Horst-Otto Gerberding        1.0   69      Germany   \n",
      "\n",
      "                      source           industry  networth_zscore  \n",
      "2595         pharmaceuticals        Healthcare          0.461538  \n",
      "2596                 apparel  Fashion & Retail          0.461538  \n",
      "2597                 apparel  Fashion & Retail          0.461538  \n",
      "2598                garments  Fashion & Retail          0.461538  \n",
      "2599  flavors and fragrances   Food & Beverage          0.461538  \n"
     ]
    }
   ],
   "source": [
    "df = pd.read_csv('2022_forbes_billionaires.csv')\n",
    "\n",
    "# Clean the NetWorth column\n",
    "df['networth'] = df['networth'].str.replace('$', '', regex = False) # Remove $\n",
    "df['networth'] = df['networth'].str.replace(' B', '', regex=False)  # Remove B\n",
    "df['networth'] = pd.to_numeric(df['networth'], errors='coerce')     # convert to numeric\n",
    "\n",
    "# Drop rows with missing or invalid networth values\n",
    "df = df.dropna(subset=['networth'])\n",
    "\n",
    "# Calculate z score for the networth\n",
    "df['networth_zscore'] = zscore(df['networth'])\n",
    "\n",
    "# Calculte percentiles for networth\n",
    "df['networth_zscore'] = df['networth'].rank(pct = True) * 100\n",
    "\n",
    "# Dispay Mean and STD\n",
    "networth_mean = df['networth'].mean()\n",
    "networth_std = df['networth'].std()\n",
    "print(f\"The mean of networths : {networth_mean : .2f} B\")\n",
    "print(f\"The standard deviation : {networth_std : .2f} B\")\n",
    "\n",
    "#Display the first few rows of the updated dataframe\n",
    "print('\\n First few rows of the updated dataframe with z- scores and percentiles : ')\n",
    "print(df.head())\n",
    "print(df.tail())\n",
    "\n",
    "# Save the modified dataframe to a csv file\n",
    "df.to_csv('Billionaire-with-networth-z-scores-and-percntiles.csv', index=False)\n"
   ]
  },
  {
   "cell_type": "code",
   "execution_count": 6,
   "id": "7f15158a",
   "metadata": {},
   "outputs": [
    {
     "data": {
      "image/png": "[encoded data removed]",
      "text/plain": [
       "<Figure size 720x432 with 1 Axes>"
      ]
     },
     "metadata": {
      "needs_background": "light"
     },
     "output_type": "display_data"
    }
   ],
   "source": [
    "import matplotlib.pyplot as plt\n",
    "\n",
    "plt.figure(figsize=(10,6))\n",
    "plt.boxplot(df['networth_zscore'], vert=False)\n",
    "plt.title('Boxplot of Z-Scores of Networth')\n",
    "plt.xlabel('Networth Z-score')\n",
    "plt.grid(axis='x', linestyle = '--', alpha= 0.7)\n",
    "plt.show()"
   ]
  },
  {
   "cell_type": "code",
   "execution_count": null,
   "id": "8e62e0f5",
   "metadata": {},
   "outputs": [],
   "source": []
  }
 ],
 "metadata": {
  "kernelspec": {
   "display_name": "base",
   "language": "python",
   "name": "python3"
  },
  "language_info": {
   "codemirror_mode": {
    "name": "ipython",
    "version": 3
   },
   "file_extension": ".py",
   "mimetype": "text/x-python",
   "name": "python",
   "nbconvert_exporter": "python",
   "pygments_lexer": "ipython3",
   "version": "3.8.5"
  }
 },
 "nbformat": 4,
 "nbformat_minor": 5
}
